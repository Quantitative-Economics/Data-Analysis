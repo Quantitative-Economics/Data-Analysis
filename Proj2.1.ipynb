{
 "cells": [
  {
   "cell_type": "markdown",
   "metadata": {},
   "source": [
    "# Research Question: Are Entrepreneurs More Food Insecure? "
   ]
  },
  {
   "cell_type": "markdown",
   "metadata": {},
   "source": [
    "#### Group 4: Christopher Perez, Ernesto Perez, Kevin Santamaria"
   ]
  },
  {
   "cell_type": "code",
   "execution_count": 1,
   "metadata": {},
   "outputs": [],
   "source": [
    "# Introduction: "
   ]
  },
  {
   "cell_type": "code",
   "execution_count": 2,
   "metadata": {},
   "outputs": [],
   "source": [
    "import pandas as pd \n",
    "import numpy as np \n",
    "import matplotlib.pyplot as plt \n",
    "import scipy.stats as st\n",
    "import math\n",
    "import statsmodels.formula.api as smf\n",
    "\n",
    "\n",
    "df = pd.read_csv('dec19pub.csv')\n",
    "df2 = pd.read_csv('hhpub19.csv')"
   ]
  },
  {
   "cell_type": "markdown",
   "metadata": {},
   "source": [
    "# Part I. Merging, Cleaning and Condensing the Data "
   ]
  },
  {
   "cell_type": "code",
   "execution_count": 3,
   "metadata": {},
   "outputs": [],
   "source": [
    "# Combining the files based on HouseHold Identifier"
   ]
  },
  {
   "cell_type": "code",
   "execution_count": 4,
   "metadata": {},
   "outputs": [],
   "source": [
    "df2['H_IDNUM'] = df2['H_IDNUM'].astype(float)"
   ]
  },
  {
   "cell_type": "code",
   "execution_count": 5,
   "metadata": {
    "scrolled": true
   },
   "outputs": [],
   "source": [
    "df['HRHHID'] = df['HRHHID'].astype(str)\n",
    "\n",
    "df['HRHHID2'] = df['HRHHID2'].astype(str)\n",
    "\n",
    "df['H_IDNUM'] = pd.DataFrame((df['HRHHID'] + df['HRHHID2'])).astype(float)"
   ]
  },
  {
   "cell_type": "code",
   "execution_count": 6,
   "metadata": {},
   "outputs": [],
   "source": [
    "merged = pd.merge(df, df2, on='H_IDNUM', how='inner')"
   ]
  },
  {
   "cell_type": "code",
   "execution_count": 7,
   "metadata": {},
   "outputs": [
    {
     "data": {
      "text/html": [
       "<div>\n",
       "<style scoped>\n",
       "    .dataframe tbody tr th:only-of-type {\n",
       "        vertical-align: middle;\n",
       "    }\n",
       "\n",
       "    .dataframe tbody tr th {\n",
       "        vertical-align: top;\n",
       "    }\n",
       "\n",
       "    .dataframe thead th {\n",
       "        text-align: right;\n",
       "    }\n",
       "</style>\n",
       "<table border=\"1\" class=\"dataframe\">\n",
       "  <thead>\n",
       "    <tr style=\"text-align: right;\">\n",
       "      <th></th>\n",
       "      <th>HESH2</th>\n",
       "      <th>HINC_FR</th>\n",
       "      <th>HINC_SE</th>\n",
       "      <th>H_NUMPER</th>\n",
       "      <th>HH5TO18</th>\n",
       "      <th>H_TELHHD</th>\n",
       "      <th>H_TENURE</th>\n",
       "      <th>HHINC</th>\n",
       "      <th>HSEVAL</th>\n",
       "      <th>HDIS_YN</th>\n",
       "      <th>HINC_WC</th>\n",
       "      <th>HUNITS</th>\n",
       "      <th>HED_YN</th>\n",
       "      <th>HCSP_YN</th>\n",
       "      <th>HWSVAL</th>\n",
       "    </tr>\n",
       "  </thead>\n",
       "  <tbody>\n",
       "    <tr>\n",
       "      <th>0</th>\n",
       "      <td>1</td>\n",
       "      <td>2</td>\n",
       "      <td>2</td>\n",
       "      <td>2</td>\n",
       "      <td>0</td>\n",
       "      <td>1</td>\n",
       "      <td>1</td>\n",
       "      <td>39</td>\n",
       "      <td>0</td>\n",
       "      <td>2</td>\n",
       "      <td>2</td>\n",
       "      <td>1</td>\n",
       "      <td>2</td>\n",
       "      <td>2</td>\n",
       "      <td>75000</td>\n",
       "    </tr>\n",
       "    <tr>\n",
       "      <th>1</th>\n",
       "      <td>1</td>\n",
       "      <td>2</td>\n",
       "      <td>2</td>\n",
       "      <td>4</td>\n",
       "      <td>1</td>\n",
       "      <td>1</td>\n",
       "      <td>2</td>\n",
       "      <td>25</td>\n",
       "      <td>0</td>\n",
       "      <td>2</td>\n",
       "      <td>2</td>\n",
       "      <td>1</td>\n",
       "      <td>1</td>\n",
       "      <td>2</td>\n",
       "      <td>60000</td>\n",
       "    </tr>\n",
       "    <tr>\n",
       "      <th>2</th>\n",
       "      <td>1</td>\n",
       "      <td>2</td>\n",
       "      <td>2</td>\n",
       "      <td>2</td>\n",
       "      <td>0</td>\n",
       "      <td>1</td>\n",
       "      <td>1</td>\n",
       "      <td>39</td>\n",
       "      <td>0</td>\n",
       "      <td>2</td>\n",
       "      <td>2</td>\n",
       "      <td>1</td>\n",
       "      <td>2</td>\n",
       "      <td>2</td>\n",
       "      <td>75000</td>\n",
       "    </tr>\n",
       "    <tr>\n",
       "      <th>3</th>\n",
       "      <td>1</td>\n",
       "      <td>2</td>\n",
       "      <td>2</td>\n",
       "      <td>4</td>\n",
       "      <td>1</td>\n",
       "      <td>1</td>\n",
       "      <td>2</td>\n",
       "      <td>25</td>\n",
       "      <td>0</td>\n",
       "      <td>2</td>\n",
       "      <td>2</td>\n",
       "      <td>1</td>\n",
       "      <td>1</td>\n",
       "      <td>2</td>\n",
       "      <td>60000</td>\n",
       "    </tr>\n",
       "    <tr>\n",
       "      <th>4</th>\n",
       "      <td>1</td>\n",
       "      <td>2</td>\n",
       "      <td>2</td>\n",
       "      <td>2</td>\n",
       "      <td>0</td>\n",
       "      <td>1</td>\n",
       "      <td>1</td>\n",
       "      <td>39</td>\n",
       "      <td>0</td>\n",
       "      <td>2</td>\n",
       "      <td>2</td>\n",
       "      <td>1</td>\n",
       "      <td>2</td>\n",
       "      <td>2</td>\n",
       "      <td>75000</td>\n",
       "    </tr>\n",
       "    <tr>\n",
       "      <th>...</th>\n",
       "      <td>...</td>\n",
       "      <td>...</td>\n",
       "      <td>...</td>\n",
       "      <td>...</td>\n",
       "      <td>...</td>\n",
       "      <td>...</td>\n",
       "      <td>...</td>\n",
       "      <td>...</td>\n",
       "      <td>...</td>\n",
       "      <td>...</td>\n",
       "      <td>...</td>\n",
       "      <td>...</td>\n",
       "      <td>...</td>\n",
       "      <td>...</td>\n",
       "      <td>...</td>\n",
       "    </tr>\n",
       "    <tr>\n",
       "      <th>21837</th>\n",
       "      <td>-1</td>\n",
       "      <td>2</td>\n",
       "      <td>2</td>\n",
       "      <td>4</td>\n",
       "      <td>2</td>\n",
       "      <td>1</td>\n",
       "      <td>1</td>\n",
       "      <td>41</td>\n",
       "      <td>0</td>\n",
       "      <td>2</td>\n",
       "      <td>2</td>\n",
       "      <td>1</td>\n",
       "      <td>2</td>\n",
       "      <td>2</td>\n",
       "      <td>149000</td>\n",
       "    </tr>\n",
       "    <tr>\n",
       "      <th>21838</th>\n",
       "      <td>-1</td>\n",
       "      <td>2</td>\n",
       "      <td>2</td>\n",
       "      <td>4</td>\n",
       "      <td>1</td>\n",
       "      <td>1</td>\n",
       "      <td>1</td>\n",
       "      <td>41</td>\n",
       "      <td>0</td>\n",
       "      <td>2</td>\n",
       "      <td>2</td>\n",
       "      <td>1</td>\n",
       "      <td>2</td>\n",
       "      <td>2</td>\n",
       "      <td>163170</td>\n",
       "    </tr>\n",
       "    <tr>\n",
       "      <th>21839</th>\n",
       "      <td>-1</td>\n",
       "      <td>2</td>\n",
       "      <td>2</td>\n",
       "      <td>4</td>\n",
       "      <td>2</td>\n",
       "      <td>1</td>\n",
       "      <td>1</td>\n",
       "      <td>41</td>\n",
       "      <td>0</td>\n",
       "      <td>2</td>\n",
       "      <td>2</td>\n",
       "      <td>1</td>\n",
       "      <td>2</td>\n",
       "      <td>2</td>\n",
       "      <td>149000</td>\n",
       "    </tr>\n",
       "    <tr>\n",
       "      <th>21840</th>\n",
       "      <td>-1</td>\n",
       "      <td>0</td>\n",
       "      <td>0</td>\n",
       "      <td>0</td>\n",
       "      <td>0</td>\n",
       "      <td>0</td>\n",
       "      <td>0</td>\n",
       "      <td>0</td>\n",
       "      <td>0</td>\n",
       "      <td>0</td>\n",
       "      <td>0</td>\n",
       "      <td>0</td>\n",
       "      <td>0</td>\n",
       "      <td>0</td>\n",
       "      <td>0</td>\n",
       "    </tr>\n",
       "    <tr>\n",
       "      <th>21841</th>\n",
       "      <td>-1</td>\n",
       "      <td>2</td>\n",
       "      <td>2</td>\n",
       "      <td>2</td>\n",
       "      <td>0</td>\n",
       "      <td>1</td>\n",
       "      <td>1</td>\n",
       "      <td>27</td>\n",
       "      <td>0</td>\n",
       "      <td>2</td>\n",
       "      <td>2</td>\n",
       "      <td>1</td>\n",
       "      <td>2</td>\n",
       "      <td>2</td>\n",
       "      <td>53800</td>\n",
       "    </tr>\n",
       "  </tbody>\n",
       "</table>\n",
       "<p>21842 rows × 15 columns</p>\n",
       "</div>"
      ],
      "text/plain": [
       "       HESH2  HINC_FR  HINC_SE  H_NUMPER  HH5TO18  H_TELHHD  H_TENURE  HHINC  \\\n",
       "0          1        2        2         2        0         1         1     39   \n",
       "1          1        2        2         4        1         1         2     25   \n",
       "2          1        2        2         2        0         1         1     39   \n",
       "3          1        2        2         4        1         1         2     25   \n",
       "4          1        2        2         2        0         1         1     39   \n",
       "...      ...      ...      ...       ...      ...       ...       ...    ...   \n",
       "21837     -1        2        2         4        2         1         1     41   \n",
       "21838     -1        2        2         4        1         1         1     41   \n",
       "21839     -1        2        2         4        2         1         1     41   \n",
       "21840     -1        0        0         0        0         0         0      0   \n",
       "21841     -1        2        2         2        0         1         1     27   \n",
       "\n",
       "       HSEVAL  HDIS_YN  HINC_WC  HUNITS  HED_YN  HCSP_YN  HWSVAL  \n",
       "0           0        2        2       1       2        2   75000  \n",
       "1           0        2        2       1       1        2   60000  \n",
       "2           0        2        2       1       2        2   75000  \n",
       "3           0        2        2       1       1        2   60000  \n",
       "4           0        2        2       1       2        2   75000  \n",
       "...       ...      ...      ...     ...     ...      ...     ...  \n",
       "21837       0        2        2       1       2        2  149000  \n",
       "21838       0        2        2       1       2        2  163170  \n",
       "21839       0        2        2       1       2        2  149000  \n",
       "21840       0        0        0       0       0        0       0  \n",
       "21841       0        2        2       1       2        2   53800  \n",
       "\n",
       "[21842 rows x 15 columns]"
      ]
     },
     "execution_count": 7,
     "metadata": {},
     "output_type": "execute_result"
    }
   ],
   "source": [
    "merged = merged[[\"HESH2\", 'HINC_FR', 'HINC_SE', \"H_NUMPER\", \"HH5TO18\", \"H_TELHHD\", \"H_TENURE\", \"HHINC\", \"HSEVAL\", \"HDIS_YN\", \"HINC_WC\", 'HUNITS', 'HED_YN', 'HCSP_YN', 'HWSVAL' ]]\n",
    "merged"
   ]
  },
  {
   "cell_type": "code",
   "execution_count": 8,
   "metadata": {},
   "outputs": [],
   "source": [
    "del df\n",
    "del df2"
   ]
  },
  {
   "cell_type": "code",
   "execution_count": 9,
   "metadata": {},
   "outputs": [
    {
     "data": {
      "text/plain": [
       "-1    19303\n",
       " 2     1696\n",
       " 1      814\n",
       "-9       19\n",
       "-3        7\n",
       "-2        3\n",
       "Name: HESH2, dtype: int64"
      ]
     },
     "execution_count": 9,
     "metadata": {},
     "output_type": "execute_result"
    }
   ],
   "source": [
    "merged['HESH2'].value_counts()"
   ]
  },
  {
   "cell_type": "code",
   "execution_count": 10,
   "metadata": {},
   "outputs": [],
   "source": [
    "merged['HESH2'] =  merged['HESH2'].map({1:1, 2:0})"
   ]
  },
  {
   "cell_type": "code",
   "execution_count": 11,
   "metadata": {},
   "outputs": [
    {
     "data": {
      "text/plain": [
       "0.0    1696\n",
       "1.0     814\n",
       "Name: HESH2, dtype: int64"
      ]
     },
     "execution_count": 11,
     "metadata": {},
     "output_type": "execute_result"
    }
   ],
   "source": [
    "merged['HESH2'].value_counts()"
   ]
  },
  {
   "cell_type": "code",
   "execution_count": 12,
   "metadata": {},
   "outputs": [
    {
     "data": {
      "text/html": [
       "<div>\n",
       "<style scoped>\n",
       "    .dataframe tbody tr th:only-of-type {\n",
       "        vertical-align: middle;\n",
       "    }\n",
       "\n",
       "    .dataframe tbody tr th {\n",
       "        vertical-align: top;\n",
       "    }\n",
       "\n",
       "    .dataframe thead th {\n",
       "        text-align: right;\n",
       "    }\n",
       "</style>\n",
       "<table border=\"1\" class=\"dataframe\">\n",
       "  <thead>\n",
       "    <tr style=\"text-align: right;\">\n",
       "      <th></th>\n",
       "      <th>HESH2</th>\n",
       "      <th>HINC_FR</th>\n",
       "      <th>HINC_SE</th>\n",
       "      <th>H_NUMPER</th>\n",
       "      <th>HH5TO18</th>\n",
       "      <th>H_TELHHD</th>\n",
       "      <th>H_TENURE</th>\n",
       "      <th>HHINC</th>\n",
       "      <th>HSEVAL</th>\n",
       "      <th>HDIS_YN</th>\n",
       "      <th>HINC_WC</th>\n",
       "      <th>HUNITS</th>\n",
       "      <th>HED_YN</th>\n",
       "      <th>HCSP_YN</th>\n",
       "      <th>HWSVAL</th>\n",
       "    </tr>\n",
       "  </thead>\n",
       "  <tbody>\n",
       "    <tr>\n",
       "      <th>0</th>\n",
       "      <td>1.0</td>\n",
       "      <td>2</td>\n",
       "      <td>2</td>\n",
       "      <td>2</td>\n",
       "      <td>0</td>\n",
       "      <td>1</td>\n",
       "      <td>1</td>\n",
       "      <td>39</td>\n",
       "      <td>0</td>\n",
       "      <td>2</td>\n",
       "      <td>2</td>\n",
       "      <td>1</td>\n",
       "      <td>2</td>\n",
       "      <td>2</td>\n",
       "      <td>75000</td>\n",
       "    </tr>\n",
       "    <tr>\n",
       "      <th>1</th>\n",
       "      <td>1.0</td>\n",
       "      <td>2</td>\n",
       "      <td>2</td>\n",
       "      <td>4</td>\n",
       "      <td>1</td>\n",
       "      <td>1</td>\n",
       "      <td>2</td>\n",
       "      <td>25</td>\n",
       "      <td>0</td>\n",
       "      <td>2</td>\n",
       "      <td>2</td>\n",
       "      <td>1</td>\n",
       "      <td>1</td>\n",
       "      <td>2</td>\n",
       "      <td>60000</td>\n",
       "    </tr>\n",
       "    <tr>\n",
       "      <th>2</th>\n",
       "      <td>1.0</td>\n",
       "      <td>2</td>\n",
       "      <td>2</td>\n",
       "      <td>2</td>\n",
       "      <td>0</td>\n",
       "      <td>1</td>\n",
       "      <td>1</td>\n",
       "      <td>39</td>\n",
       "      <td>0</td>\n",
       "      <td>2</td>\n",
       "      <td>2</td>\n",
       "      <td>1</td>\n",
       "      <td>2</td>\n",
       "      <td>2</td>\n",
       "      <td>75000</td>\n",
       "    </tr>\n",
       "    <tr>\n",
       "      <th>3</th>\n",
       "      <td>1.0</td>\n",
       "      <td>2</td>\n",
       "      <td>2</td>\n",
       "      <td>4</td>\n",
       "      <td>1</td>\n",
       "      <td>1</td>\n",
       "      <td>2</td>\n",
       "      <td>25</td>\n",
       "      <td>0</td>\n",
       "      <td>2</td>\n",
       "      <td>2</td>\n",
       "      <td>1</td>\n",
       "      <td>1</td>\n",
       "      <td>2</td>\n",
       "      <td>60000</td>\n",
       "    </tr>\n",
       "    <tr>\n",
       "      <th>4</th>\n",
       "      <td>1.0</td>\n",
       "      <td>2</td>\n",
       "      <td>2</td>\n",
       "      <td>2</td>\n",
       "      <td>0</td>\n",
       "      <td>1</td>\n",
       "      <td>1</td>\n",
       "      <td>39</td>\n",
       "      <td>0</td>\n",
       "      <td>2</td>\n",
       "      <td>2</td>\n",
       "      <td>1</td>\n",
       "      <td>2</td>\n",
       "      <td>2</td>\n",
       "      <td>75000</td>\n",
       "    </tr>\n",
       "    <tr>\n",
       "      <th>...</th>\n",
       "      <td>...</td>\n",
       "      <td>...</td>\n",
       "      <td>...</td>\n",
       "      <td>...</td>\n",
       "      <td>...</td>\n",
       "      <td>...</td>\n",
       "      <td>...</td>\n",
       "      <td>...</td>\n",
       "      <td>...</td>\n",
       "      <td>...</td>\n",
       "      <td>...</td>\n",
       "      <td>...</td>\n",
       "      <td>...</td>\n",
       "      <td>...</td>\n",
       "      <td>...</td>\n",
       "    </tr>\n",
       "    <tr>\n",
       "      <th>21837</th>\n",
       "      <td>NaN</td>\n",
       "      <td>2</td>\n",
       "      <td>2</td>\n",
       "      <td>4</td>\n",
       "      <td>2</td>\n",
       "      <td>1</td>\n",
       "      <td>1</td>\n",
       "      <td>41</td>\n",
       "      <td>0</td>\n",
       "      <td>2</td>\n",
       "      <td>2</td>\n",
       "      <td>1</td>\n",
       "      <td>2</td>\n",
       "      <td>2</td>\n",
       "      <td>149000</td>\n",
       "    </tr>\n",
       "    <tr>\n",
       "      <th>21838</th>\n",
       "      <td>NaN</td>\n",
       "      <td>2</td>\n",
       "      <td>2</td>\n",
       "      <td>4</td>\n",
       "      <td>1</td>\n",
       "      <td>1</td>\n",
       "      <td>1</td>\n",
       "      <td>41</td>\n",
       "      <td>0</td>\n",
       "      <td>2</td>\n",
       "      <td>2</td>\n",
       "      <td>1</td>\n",
       "      <td>2</td>\n",
       "      <td>2</td>\n",
       "      <td>163170</td>\n",
       "    </tr>\n",
       "    <tr>\n",
       "      <th>21839</th>\n",
       "      <td>NaN</td>\n",
       "      <td>2</td>\n",
       "      <td>2</td>\n",
       "      <td>4</td>\n",
       "      <td>2</td>\n",
       "      <td>1</td>\n",
       "      <td>1</td>\n",
       "      <td>41</td>\n",
       "      <td>0</td>\n",
       "      <td>2</td>\n",
       "      <td>2</td>\n",
       "      <td>1</td>\n",
       "      <td>2</td>\n",
       "      <td>2</td>\n",
       "      <td>149000</td>\n",
       "    </tr>\n",
       "    <tr>\n",
       "      <th>21840</th>\n",
       "      <td>NaN</td>\n",
       "      <td>0</td>\n",
       "      <td>0</td>\n",
       "      <td>0</td>\n",
       "      <td>0</td>\n",
       "      <td>0</td>\n",
       "      <td>0</td>\n",
       "      <td>0</td>\n",
       "      <td>0</td>\n",
       "      <td>0</td>\n",
       "      <td>0</td>\n",
       "      <td>0</td>\n",
       "      <td>0</td>\n",
       "      <td>0</td>\n",
       "      <td>0</td>\n",
       "    </tr>\n",
       "    <tr>\n",
       "      <th>21841</th>\n",
       "      <td>NaN</td>\n",
       "      <td>2</td>\n",
       "      <td>2</td>\n",
       "      <td>2</td>\n",
       "      <td>0</td>\n",
       "      <td>1</td>\n",
       "      <td>1</td>\n",
       "      <td>27</td>\n",
       "      <td>0</td>\n",
       "      <td>2</td>\n",
       "      <td>2</td>\n",
       "      <td>1</td>\n",
       "      <td>2</td>\n",
       "      <td>2</td>\n",
       "      <td>53800</td>\n",
       "    </tr>\n",
       "  </tbody>\n",
       "</table>\n",
       "<p>21842 rows × 15 columns</p>\n",
       "</div>"
      ],
      "text/plain": [
       "       HESH2  HINC_FR  HINC_SE  H_NUMPER  HH5TO18  H_TELHHD  H_TENURE  HHINC  \\\n",
       "0        1.0        2        2         2        0         1         1     39   \n",
       "1        1.0        2        2         4        1         1         2     25   \n",
       "2        1.0        2        2         2        0         1         1     39   \n",
       "3        1.0        2        2         4        1         1         2     25   \n",
       "4        1.0        2        2         2        0         1         1     39   \n",
       "...      ...      ...      ...       ...      ...       ...       ...    ...   \n",
       "21837    NaN        2        2         4        2         1         1     41   \n",
       "21838    NaN        2        2         4        1         1         1     41   \n",
       "21839    NaN        2        2         4        2         1         1     41   \n",
       "21840    NaN        0        0         0        0         0         0      0   \n",
       "21841    NaN        2        2         2        0         1         1     27   \n",
       "\n",
       "       HSEVAL  HDIS_YN  HINC_WC  HUNITS  HED_YN  HCSP_YN  HWSVAL  \n",
       "0           0        2        2       1       2        2   75000  \n",
       "1           0        2        2       1       1        2   60000  \n",
       "2           0        2        2       1       2        2   75000  \n",
       "3           0        2        2       1       1        2   60000  \n",
       "4           0        2        2       1       2        2   75000  \n",
       "...       ...      ...      ...     ...     ...      ...     ...  \n",
       "21837       0        2        2       1       2        2  149000  \n",
       "21838       0        2        2       1       2        2  163170  \n",
       "21839       0        2        2       1       2        2  149000  \n",
       "21840       0        0        0       0       0        0       0  \n",
       "21841       0        2        2       1       2        2   53800  \n",
       "\n",
       "[21842 rows x 15 columns]"
      ]
     },
     "execution_count": 12,
     "metadata": {},
     "output_type": "execute_result"
    }
   ],
   "source": [
    "merged"
   ]
  },
  {
   "cell_type": "code",
   "execution_count": 13,
   "metadata": {},
   "outputs": [],
   "source": [
    "merged = merged.dropna()"
   ]
  },
  {
   "cell_type": "code",
   "execution_count": 14,
   "metadata": {},
   "outputs": [
    {
     "data": {
      "text/html": [
       "<div>\n",
       "<style scoped>\n",
       "    .dataframe tbody tr th:only-of-type {\n",
       "        vertical-align: middle;\n",
       "    }\n",
       "\n",
       "    .dataframe tbody tr th {\n",
       "        vertical-align: top;\n",
       "    }\n",
       "\n",
       "    .dataframe thead th {\n",
       "        text-align: right;\n",
       "    }\n",
       "</style>\n",
       "<table border=\"1\" class=\"dataframe\">\n",
       "  <thead>\n",
       "    <tr style=\"text-align: right;\">\n",
       "      <th></th>\n",
       "      <th>HESH2</th>\n",
       "      <th>HINC_FR</th>\n",
       "      <th>HINC_SE</th>\n",
       "      <th>H_NUMPER</th>\n",
       "      <th>HH5TO18</th>\n",
       "      <th>H_TELHHD</th>\n",
       "      <th>H_TENURE</th>\n",
       "      <th>HHINC</th>\n",
       "      <th>HSEVAL</th>\n",
       "      <th>HDIS_YN</th>\n",
       "      <th>HINC_WC</th>\n",
       "      <th>HUNITS</th>\n",
       "      <th>HED_YN</th>\n",
       "      <th>HCSP_YN</th>\n",
       "      <th>HWSVAL</th>\n",
       "    </tr>\n",
       "  </thead>\n",
       "  <tbody>\n",
       "    <tr>\n",
       "      <th>0</th>\n",
       "      <td>1.0</td>\n",
       "      <td>2</td>\n",
       "      <td>2</td>\n",
       "      <td>2</td>\n",
       "      <td>0</td>\n",
       "      <td>1</td>\n",
       "      <td>1</td>\n",
       "      <td>39</td>\n",
       "      <td>0</td>\n",
       "      <td>2</td>\n",
       "      <td>2</td>\n",
       "      <td>1</td>\n",
       "      <td>2</td>\n",
       "      <td>2</td>\n",
       "      <td>75000</td>\n",
       "    </tr>\n",
       "    <tr>\n",
       "      <th>1</th>\n",
       "      <td>1.0</td>\n",
       "      <td>2</td>\n",
       "      <td>2</td>\n",
       "      <td>4</td>\n",
       "      <td>1</td>\n",
       "      <td>1</td>\n",
       "      <td>2</td>\n",
       "      <td>25</td>\n",
       "      <td>0</td>\n",
       "      <td>2</td>\n",
       "      <td>2</td>\n",
       "      <td>1</td>\n",
       "      <td>1</td>\n",
       "      <td>2</td>\n",
       "      <td>60000</td>\n",
       "    </tr>\n",
       "    <tr>\n",
       "      <th>2</th>\n",
       "      <td>1.0</td>\n",
       "      <td>2</td>\n",
       "      <td>2</td>\n",
       "      <td>2</td>\n",
       "      <td>0</td>\n",
       "      <td>1</td>\n",
       "      <td>1</td>\n",
       "      <td>39</td>\n",
       "      <td>0</td>\n",
       "      <td>2</td>\n",
       "      <td>2</td>\n",
       "      <td>1</td>\n",
       "      <td>2</td>\n",
       "      <td>2</td>\n",
       "      <td>75000</td>\n",
       "    </tr>\n",
       "    <tr>\n",
       "      <th>3</th>\n",
       "      <td>1.0</td>\n",
       "      <td>2</td>\n",
       "      <td>2</td>\n",
       "      <td>4</td>\n",
       "      <td>1</td>\n",
       "      <td>1</td>\n",
       "      <td>2</td>\n",
       "      <td>25</td>\n",
       "      <td>0</td>\n",
       "      <td>2</td>\n",
       "      <td>2</td>\n",
       "      <td>1</td>\n",
       "      <td>1</td>\n",
       "      <td>2</td>\n",
       "      <td>60000</td>\n",
       "    </tr>\n",
       "    <tr>\n",
       "      <th>4</th>\n",
       "      <td>1.0</td>\n",
       "      <td>2</td>\n",
       "      <td>2</td>\n",
       "      <td>2</td>\n",
       "      <td>0</td>\n",
       "      <td>1</td>\n",
       "      <td>1</td>\n",
       "      <td>39</td>\n",
       "      <td>0</td>\n",
       "      <td>2</td>\n",
       "      <td>2</td>\n",
       "      <td>1</td>\n",
       "      <td>2</td>\n",
       "      <td>2</td>\n",
       "      <td>75000</td>\n",
       "    </tr>\n",
       "    <tr>\n",
       "      <th>...</th>\n",
       "      <td>...</td>\n",
       "      <td>...</td>\n",
       "      <td>...</td>\n",
       "      <td>...</td>\n",
       "      <td>...</td>\n",
       "      <td>...</td>\n",
       "      <td>...</td>\n",
       "      <td>...</td>\n",
       "      <td>...</td>\n",
       "      <td>...</td>\n",
       "      <td>...</td>\n",
       "      <td>...</td>\n",
       "      <td>...</td>\n",
       "      <td>...</td>\n",
       "      <td>...</td>\n",
       "    </tr>\n",
       "    <tr>\n",
       "      <th>20932</th>\n",
       "      <td>1.0</td>\n",
       "      <td>2</td>\n",
       "      <td>2</td>\n",
       "      <td>2</td>\n",
       "      <td>0</td>\n",
       "      <td>1</td>\n",
       "      <td>1</td>\n",
       "      <td>41</td>\n",
       "      <td>0</td>\n",
       "      <td>2</td>\n",
       "      <td>2</td>\n",
       "      <td>1</td>\n",
       "      <td>2</td>\n",
       "      <td>2</td>\n",
       "      <td>91200</td>\n",
       "    </tr>\n",
       "    <tr>\n",
       "      <th>20933</th>\n",
       "      <td>1.0</td>\n",
       "      <td>2</td>\n",
       "      <td>2</td>\n",
       "      <td>2</td>\n",
       "      <td>0</td>\n",
       "      <td>1</td>\n",
       "      <td>1</td>\n",
       "      <td>41</td>\n",
       "      <td>0</td>\n",
       "      <td>2</td>\n",
       "      <td>2</td>\n",
       "      <td>1</td>\n",
       "      <td>2</td>\n",
       "      <td>2</td>\n",
       "      <td>91200</td>\n",
       "    </tr>\n",
       "    <tr>\n",
       "      <th>20934</th>\n",
       "      <td>1.0</td>\n",
       "      <td>2</td>\n",
       "      <td>2</td>\n",
       "      <td>2</td>\n",
       "      <td>0</td>\n",
       "      <td>1</td>\n",
       "      <td>1</td>\n",
       "      <td>41</td>\n",
       "      <td>0</td>\n",
       "      <td>2</td>\n",
       "      <td>2</td>\n",
       "      <td>1</td>\n",
       "      <td>2</td>\n",
       "      <td>2</td>\n",
       "      <td>91200</td>\n",
       "    </tr>\n",
       "    <tr>\n",
       "      <th>21100</th>\n",
       "      <td>0.0</td>\n",
       "      <td>2</td>\n",
       "      <td>2</td>\n",
       "      <td>2</td>\n",
       "      <td>0</td>\n",
       "      <td>2</td>\n",
       "      <td>1</td>\n",
       "      <td>15</td>\n",
       "      <td>0</td>\n",
       "      <td>2</td>\n",
       "      <td>2</td>\n",
       "      <td>1</td>\n",
       "      <td>2</td>\n",
       "      <td>2</td>\n",
       "      <td>0</td>\n",
       "    </tr>\n",
       "    <tr>\n",
       "      <th>21101</th>\n",
       "      <td>0.0</td>\n",
       "      <td>2</td>\n",
       "      <td>2</td>\n",
       "      <td>2</td>\n",
       "      <td>0</td>\n",
       "      <td>2</td>\n",
       "      <td>1</td>\n",
       "      <td>15</td>\n",
       "      <td>0</td>\n",
       "      <td>2</td>\n",
       "      <td>2</td>\n",
       "      <td>1</td>\n",
       "      <td>2</td>\n",
       "      <td>2</td>\n",
       "      <td>0</td>\n",
       "    </tr>\n",
       "  </tbody>\n",
       "</table>\n",
       "<p>2510 rows × 15 columns</p>\n",
       "</div>"
      ],
      "text/plain": [
       "       HESH2  HINC_FR  HINC_SE  H_NUMPER  HH5TO18  H_TELHHD  H_TENURE  HHINC  \\\n",
       "0        1.0        2        2         2        0         1         1     39   \n",
       "1        1.0        2        2         4        1         1         2     25   \n",
       "2        1.0        2        2         2        0         1         1     39   \n",
       "3        1.0        2        2         4        1         1         2     25   \n",
       "4        1.0        2        2         2        0         1         1     39   \n",
       "...      ...      ...      ...       ...      ...       ...       ...    ...   \n",
       "20932    1.0        2        2         2        0         1         1     41   \n",
       "20933    1.0        2        2         2        0         1         1     41   \n",
       "20934    1.0        2        2         2        0         1         1     41   \n",
       "21100    0.0        2        2         2        0         2         1     15   \n",
       "21101    0.0        2        2         2        0         2         1     15   \n",
       "\n",
       "       HSEVAL  HDIS_YN  HINC_WC  HUNITS  HED_YN  HCSP_YN  HWSVAL  \n",
       "0           0        2        2       1       2        2   75000  \n",
       "1           0        2        2       1       1        2   60000  \n",
       "2           0        2        2       1       2        2   75000  \n",
       "3           0        2        2       1       1        2   60000  \n",
       "4           0        2        2       1       2        2   75000  \n",
       "...       ...      ...      ...     ...     ...      ...     ...  \n",
       "20932       0        2        2       1       2        2   91200  \n",
       "20933       0        2        2       1       2        2   91200  \n",
       "20934       0        2        2       1       2        2   91200  \n",
       "21100       0        2        2       1       2        2       0  \n",
       "21101       0        2        2       1       2        2       0  \n",
       "\n",
       "[2510 rows x 15 columns]"
      ]
     },
     "execution_count": 14,
     "metadata": {},
     "output_type": "execute_result"
    }
   ],
   "source": [
    "merged"
   ]
  },
  {
   "cell_type": "code",
   "execution_count": 15,
   "metadata": {
    "scrolled": true
   },
   "outputs": [
    {
     "data": {
      "text/plain": [
       "0     667\n",
       "2     628\n",
       "1     428\n",
       "3     333\n",
       "4     280\n",
       "5      92\n",
       "6      37\n",
       "7      20\n",
       "8      14\n",
       "10     10\n",
       "9       1\n",
       "Name: H_NUMPER, dtype: int64"
      ]
     },
     "execution_count": 15,
     "metadata": {},
     "output_type": "execute_result"
    }
   ],
   "source": [
    "merged['H_NUMPER'].value_counts()"
   ]
  },
  {
   "cell_type": "code",
   "execution_count": 16,
   "metadata": {},
   "outputs": [],
   "source": [
    "# these 667 people didn't respond to all except two of the questions that we are analyzing"
   ]
  },
  {
   "cell_type": "code",
   "execution_count": 17,
   "metadata": {},
   "outputs": [
    {
     "data": {
      "text/html": [
       "<div>\n",
       "<style scoped>\n",
       "    .dataframe tbody tr th:only-of-type {\n",
       "        vertical-align: middle;\n",
       "    }\n",
       "\n",
       "    .dataframe tbody tr th {\n",
       "        vertical-align: top;\n",
       "    }\n",
       "\n",
       "    .dataframe thead th {\n",
       "        text-align: right;\n",
       "    }\n",
       "</style>\n",
       "<table border=\"1\" class=\"dataframe\">\n",
       "  <thead>\n",
       "    <tr style=\"text-align: right;\">\n",
       "      <th></th>\n",
       "      <th>HESH2</th>\n",
       "      <th>HINC_FR</th>\n",
       "      <th>HINC_SE</th>\n",
       "      <th>H_NUMPER</th>\n",
       "      <th>HH5TO18</th>\n",
       "      <th>H_TELHHD</th>\n",
       "      <th>H_TENURE</th>\n",
       "      <th>HHINC</th>\n",
       "      <th>HSEVAL</th>\n",
       "      <th>HDIS_YN</th>\n",
       "      <th>HINC_WC</th>\n",
       "      <th>HUNITS</th>\n",
       "      <th>HED_YN</th>\n",
       "      <th>HCSP_YN</th>\n",
       "      <th>HWSVAL</th>\n",
       "    </tr>\n",
       "  </thead>\n",
       "  <tbody>\n",
       "    <tr>\n",
       "      <th>0</th>\n",
       "      <td>1.0</td>\n",
       "      <td>2</td>\n",
       "      <td>2</td>\n",
       "      <td>2</td>\n",
       "      <td>0</td>\n",
       "      <td>1</td>\n",
       "      <td>1</td>\n",
       "      <td>39</td>\n",
       "      <td>0</td>\n",
       "      <td>2</td>\n",
       "      <td>2</td>\n",
       "      <td>1</td>\n",
       "      <td>2</td>\n",
       "      <td>2</td>\n",
       "      <td>75000</td>\n",
       "    </tr>\n",
       "    <tr>\n",
       "      <th>1</th>\n",
       "      <td>1.0</td>\n",
       "      <td>2</td>\n",
       "      <td>2</td>\n",
       "      <td>4</td>\n",
       "      <td>1</td>\n",
       "      <td>1</td>\n",
       "      <td>2</td>\n",
       "      <td>25</td>\n",
       "      <td>0</td>\n",
       "      <td>2</td>\n",
       "      <td>2</td>\n",
       "      <td>1</td>\n",
       "      <td>1</td>\n",
       "      <td>2</td>\n",
       "      <td>60000</td>\n",
       "    </tr>\n",
       "    <tr>\n",
       "      <th>2</th>\n",
       "      <td>1.0</td>\n",
       "      <td>2</td>\n",
       "      <td>2</td>\n",
       "      <td>2</td>\n",
       "      <td>0</td>\n",
       "      <td>1</td>\n",
       "      <td>1</td>\n",
       "      <td>39</td>\n",
       "      <td>0</td>\n",
       "      <td>2</td>\n",
       "      <td>2</td>\n",
       "      <td>1</td>\n",
       "      <td>2</td>\n",
       "      <td>2</td>\n",
       "      <td>75000</td>\n",
       "    </tr>\n",
       "    <tr>\n",
       "      <th>3</th>\n",
       "      <td>1.0</td>\n",
       "      <td>2</td>\n",
       "      <td>2</td>\n",
       "      <td>4</td>\n",
       "      <td>1</td>\n",
       "      <td>1</td>\n",
       "      <td>2</td>\n",
       "      <td>25</td>\n",
       "      <td>0</td>\n",
       "      <td>2</td>\n",
       "      <td>2</td>\n",
       "      <td>1</td>\n",
       "      <td>1</td>\n",
       "      <td>2</td>\n",
       "      <td>60000</td>\n",
       "    </tr>\n",
       "    <tr>\n",
       "      <th>4</th>\n",
       "      <td>1.0</td>\n",
       "      <td>2</td>\n",
       "      <td>2</td>\n",
       "      <td>2</td>\n",
       "      <td>0</td>\n",
       "      <td>1</td>\n",
       "      <td>1</td>\n",
       "      <td>39</td>\n",
       "      <td>0</td>\n",
       "      <td>2</td>\n",
       "      <td>2</td>\n",
       "      <td>1</td>\n",
       "      <td>2</td>\n",
       "      <td>2</td>\n",
       "      <td>75000</td>\n",
       "    </tr>\n",
       "    <tr>\n",
       "      <th>...</th>\n",
       "      <td>...</td>\n",
       "      <td>...</td>\n",
       "      <td>...</td>\n",
       "      <td>...</td>\n",
       "      <td>...</td>\n",
       "      <td>...</td>\n",
       "      <td>...</td>\n",
       "      <td>...</td>\n",
       "      <td>...</td>\n",
       "      <td>...</td>\n",
       "      <td>...</td>\n",
       "      <td>...</td>\n",
       "      <td>...</td>\n",
       "      <td>...</td>\n",
       "      <td>...</td>\n",
       "    </tr>\n",
       "    <tr>\n",
       "      <th>20932</th>\n",
       "      <td>1.0</td>\n",
       "      <td>2</td>\n",
       "      <td>2</td>\n",
       "      <td>2</td>\n",
       "      <td>0</td>\n",
       "      <td>1</td>\n",
       "      <td>1</td>\n",
       "      <td>41</td>\n",
       "      <td>0</td>\n",
       "      <td>2</td>\n",
       "      <td>2</td>\n",
       "      <td>1</td>\n",
       "      <td>2</td>\n",
       "      <td>2</td>\n",
       "      <td>91200</td>\n",
       "    </tr>\n",
       "    <tr>\n",
       "      <th>20933</th>\n",
       "      <td>1.0</td>\n",
       "      <td>2</td>\n",
       "      <td>2</td>\n",
       "      <td>2</td>\n",
       "      <td>0</td>\n",
       "      <td>1</td>\n",
       "      <td>1</td>\n",
       "      <td>41</td>\n",
       "      <td>0</td>\n",
       "      <td>2</td>\n",
       "      <td>2</td>\n",
       "      <td>1</td>\n",
       "      <td>2</td>\n",
       "      <td>2</td>\n",
       "      <td>91200</td>\n",
       "    </tr>\n",
       "    <tr>\n",
       "      <th>20934</th>\n",
       "      <td>1.0</td>\n",
       "      <td>2</td>\n",
       "      <td>2</td>\n",
       "      <td>2</td>\n",
       "      <td>0</td>\n",
       "      <td>1</td>\n",
       "      <td>1</td>\n",
       "      <td>41</td>\n",
       "      <td>0</td>\n",
       "      <td>2</td>\n",
       "      <td>2</td>\n",
       "      <td>1</td>\n",
       "      <td>2</td>\n",
       "      <td>2</td>\n",
       "      <td>91200</td>\n",
       "    </tr>\n",
       "    <tr>\n",
       "      <th>21100</th>\n",
       "      <td>0.0</td>\n",
       "      <td>2</td>\n",
       "      <td>2</td>\n",
       "      <td>2</td>\n",
       "      <td>0</td>\n",
       "      <td>2</td>\n",
       "      <td>1</td>\n",
       "      <td>15</td>\n",
       "      <td>0</td>\n",
       "      <td>2</td>\n",
       "      <td>2</td>\n",
       "      <td>1</td>\n",
       "      <td>2</td>\n",
       "      <td>2</td>\n",
       "      <td>0</td>\n",
       "    </tr>\n",
       "    <tr>\n",
       "      <th>21101</th>\n",
       "      <td>0.0</td>\n",
       "      <td>2</td>\n",
       "      <td>2</td>\n",
       "      <td>2</td>\n",
       "      <td>0</td>\n",
       "      <td>2</td>\n",
       "      <td>1</td>\n",
       "      <td>15</td>\n",
       "      <td>0</td>\n",
       "      <td>2</td>\n",
       "      <td>2</td>\n",
       "      <td>1</td>\n",
       "      <td>2</td>\n",
       "      <td>2</td>\n",
       "      <td>0</td>\n",
       "    </tr>\n",
       "  </tbody>\n",
       "</table>\n",
       "<p>1843 rows × 15 columns</p>\n",
       "</div>"
      ],
      "text/plain": [
       "       HESH2  HINC_FR  HINC_SE  H_NUMPER  HH5TO18  H_TELHHD  H_TENURE  HHINC  \\\n",
       "0        1.0        2        2         2        0         1         1     39   \n",
       "1        1.0        2        2         4        1         1         2     25   \n",
       "2        1.0        2        2         2        0         1         1     39   \n",
       "3        1.0        2        2         4        1         1         2     25   \n",
       "4        1.0        2        2         2        0         1         1     39   \n",
       "...      ...      ...      ...       ...      ...       ...       ...    ...   \n",
       "20932    1.0        2        2         2        0         1         1     41   \n",
       "20933    1.0        2        2         2        0         1         1     41   \n",
       "20934    1.0        2        2         2        0         1         1     41   \n",
       "21100    0.0        2        2         2        0         2         1     15   \n",
       "21101    0.0        2        2         2        0         2         1     15   \n",
       "\n",
       "       HSEVAL  HDIS_YN  HINC_WC  HUNITS  HED_YN  HCSP_YN  HWSVAL  \n",
       "0           0        2        2       1       2        2   75000  \n",
       "1           0        2        2       1       1        2   60000  \n",
       "2           0        2        2       1       2        2   75000  \n",
       "3           0        2        2       1       1        2   60000  \n",
       "4           0        2        2       1       2        2   75000  \n",
       "...       ...      ...      ...     ...     ...      ...     ...  \n",
       "20932       0        2        2       1       2        2   91200  \n",
       "20933       0        2        2       1       2        2   91200  \n",
       "20934       0        2        2       1       2        2   91200  \n",
       "21100       0        2        2       1       2        2       0  \n",
       "21101       0        2        2       1       2        2       0  \n",
       "\n",
       "[1843 rows x 15 columns]"
      ]
     },
     "execution_count": 17,
     "metadata": {},
     "output_type": "execute_result"
    }
   ],
   "source": [
    "merged = merged[merged['H_NUMPER'] != 0]\n",
    "merged"
   ]
  },
  {
   "cell_type": "code",
   "execution_count": 18,
   "metadata": {
    "scrolled": true
   },
   "outputs": [
    {
     "data": {
      "text/plain": [
       "2    1829\n",
       "1      14\n",
       "Name: HINC_WC, dtype: int64"
      ]
     },
     "execution_count": 18,
     "metadata": {},
     "output_type": "execute_result"
    }
   ],
   "source": [
    "merged['HINC_WC'].value_counts()"
   ]
  },
  {
   "cell_type": "code",
   "execution_count": 19,
   "metadata": {
    "scrolled": true
   },
   "outputs": [
    {
     "name": "stderr",
     "output_type": "stream",
     "text": [
      "<ipython-input-19-8c7d6759721e>:1: SettingWithCopyWarning: \n",
      "A value is trying to be set on a copy of a slice from a DataFrame.\n",
      "Try using .loc[row_indexer,col_indexer] = value instead\n",
      "\n",
      "See the caveats in the documentation: https://pandas.pydata.org/pandas-docs/stable/user_guide/indexing.html#returning-a-view-versus-a-copy\n",
      "  merged['HINC_FR'] = merged['HINC_FR'].map({1:1, 2:0})\n",
      "<ipython-input-19-8c7d6759721e>:2: SettingWithCopyWarning: \n",
      "A value is trying to be set on a copy of a slice from a DataFrame.\n",
      "Try using .loc[row_indexer,col_indexer] = value instead\n",
      "\n",
      "See the caveats in the documentation: https://pandas.pydata.org/pandas-docs/stable/user_guide/indexing.html#returning-a-view-versus-a-copy\n",
      "  merged['HINC_SE'] = merged['HINC_SE'].map({1:1, 2:0})\n",
      "<ipython-input-19-8c7d6759721e>:3: SettingWithCopyWarning: \n",
      "A value is trying to be set on a copy of a slice from a DataFrame.\n",
      "Try using .loc[row_indexer,col_indexer] = value instead\n",
      "\n",
      "See the caveats in the documentation: https://pandas.pydata.org/pandas-docs/stable/user_guide/indexing.html#returning-a-view-versus-a-copy\n",
      "  merged['H_TELHHD'] = merged['H_TELHHD'].map({1:1, 2:0})\n",
      "<ipython-input-19-8c7d6759721e>:4: SettingWithCopyWarning: \n",
      "A value is trying to be set on a copy of a slice from a DataFrame.\n",
      "Try using .loc[row_indexer,col_indexer] = value instead\n",
      "\n",
      "See the caveats in the documentation: https://pandas.pydata.org/pandas-docs/stable/user_guide/indexing.html#returning-a-view-versus-a-copy\n",
      "  merged['H_TENURE'] = merged['H_TENURE'].map({1:1, 2:0, 3:0})\n",
      "<ipython-input-19-8c7d6759721e>:5: SettingWithCopyWarning: \n",
      "A value is trying to be set on a copy of a slice from a DataFrame.\n",
      "Try using .loc[row_indexer,col_indexer] = value instead\n",
      "\n",
      "See the caveats in the documentation: https://pandas.pydata.org/pandas-docs/stable/user_guide/indexing.html#returning-a-view-versus-a-copy\n",
      "  merged['HDIS_YN'] = merged['HDIS_YN'].map({1:1, 2:0})\n",
      "<ipython-input-19-8c7d6759721e>:6: SettingWithCopyWarning: \n",
      "A value is trying to be set on a copy of a slice from a DataFrame.\n",
      "Try using .loc[row_indexer,col_indexer] = value instead\n",
      "\n",
      "See the caveats in the documentation: https://pandas.pydata.org/pandas-docs/stable/user_guide/indexing.html#returning-a-view-versus-a-copy\n",
      "  merged['HINC_WC'] = merged['HINC_WC'].map({1:1, 2:0})\n"
     ]
    }
   ],
   "source": [
    "merged['HINC_FR'] = merged['HINC_FR'].map({1:1, 2:0})\n",
    "merged['HINC_SE'] = merged['HINC_SE'].map({1:1, 2:0})\n",
    "merged['H_TELHHD'] = merged['H_TELHHD'].map({1:1, 2:0})\n",
    "merged['H_TENURE'] = merged['H_TENURE'].map({1:1, 2:0, 3:0})\n",
    "merged['HDIS_YN'] = merged['HDIS_YN'].map({1:1, 2:0})\n",
    "merged['HINC_WC'] = merged['HINC_WC'].map({1:1, 2:0})"
   ]
  },
  {
   "cell_type": "code",
   "execution_count": 20,
   "metadata": {
    "scrolled": true
   },
   "outputs": [
    {
     "data": {
      "text/html": [
       "<div>\n",
       "<style scoped>\n",
       "    .dataframe tbody tr th:only-of-type {\n",
       "        vertical-align: middle;\n",
       "    }\n",
       "\n",
       "    .dataframe tbody tr th {\n",
       "        vertical-align: top;\n",
       "    }\n",
       "\n",
       "    .dataframe thead th {\n",
       "        text-align: right;\n",
       "    }\n",
       "</style>\n",
       "<table border=\"1\" class=\"dataframe\">\n",
       "  <thead>\n",
       "    <tr style=\"text-align: right;\">\n",
       "      <th></th>\n",
       "      <th>HESH2</th>\n",
       "      <th>HINC_FR</th>\n",
       "      <th>HINC_SE</th>\n",
       "      <th>H_NUMPER</th>\n",
       "      <th>HH5TO18</th>\n",
       "      <th>H_TELHHD</th>\n",
       "      <th>H_TENURE</th>\n",
       "      <th>HHINC</th>\n",
       "      <th>HSEVAL</th>\n",
       "      <th>HDIS_YN</th>\n",
       "      <th>HINC_WC</th>\n",
       "      <th>HUNITS</th>\n",
       "      <th>HED_YN</th>\n",
       "      <th>HCSP_YN</th>\n",
       "      <th>HWSVAL</th>\n",
       "    </tr>\n",
       "  </thead>\n",
       "  <tbody>\n",
       "    <tr>\n",
       "      <th>0</th>\n",
       "      <td>1.0</td>\n",
       "      <td>0</td>\n",
       "      <td>0</td>\n",
       "      <td>2</td>\n",
       "      <td>0</td>\n",
       "      <td>1</td>\n",
       "      <td>1</td>\n",
       "      <td>39</td>\n",
       "      <td>0</td>\n",
       "      <td>0</td>\n",
       "      <td>0</td>\n",
       "      <td>1</td>\n",
       "      <td>2</td>\n",
       "      <td>2</td>\n",
       "      <td>75000</td>\n",
       "    </tr>\n",
       "    <tr>\n",
       "      <th>1</th>\n",
       "      <td>1.0</td>\n",
       "      <td>0</td>\n",
       "      <td>0</td>\n",
       "      <td>4</td>\n",
       "      <td>1</td>\n",
       "      <td>1</td>\n",
       "      <td>0</td>\n",
       "      <td>25</td>\n",
       "      <td>0</td>\n",
       "      <td>0</td>\n",
       "      <td>0</td>\n",
       "      <td>1</td>\n",
       "      <td>1</td>\n",
       "      <td>2</td>\n",
       "      <td>60000</td>\n",
       "    </tr>\n",
       "    <tr>\n",
       "      <th>2</th>\n",
       "      <td>1.0</td>\n",
       "      <td>0</td>\n",
       "      <td>0</td>\n",
       "      <td>2</td>\n",
       "      <td>0</td>\n",
       "      <td>1</td>\n",
       "      <td>1</td>\n",
       "      <td>39</td>\n",
       "      <td>0</td>\n",
       "      <td>0</td>\n",
       "      <td>0</td>\n",
       "      <td>1</td>\n",
       "      <td>2</td>\n",
       "      <td>2</td>\n",
       "      <td>75000</td>\n",
       "    </tr>\n",
       "    <tr>\n",
       "      <th>3</th>\n",
       "      <td>1.0</td>\n",
       "      <td>0</td>\n",
       "      <td>0</td>\n",
       "      <td>4</td>\n",
       "      <td>1</td>\n",
       "      <td>1</td>\n",
       "      <td>0</td>\n",
       "      <td>25</td>\n",
       "      <td>0</td>\n",
       "      <td>0</td>\n",
       "      <td>0</td>\n",
       "      <td>1</td>\n",
       "      <td>1</td>\n",
       "      <td>2</td>\n",
       "      <td>60000</td>\n",
       "    </tr>\n",
       "    <tr>\n",
       "      <th>4</th>\n",
       "      <td>1.0</td>\n",
       "      <td>0</td>\n",
       "      <td>0</td>\n",
       "      <td>2</td>\n",
       "      <td>0</td>\n",
       "      <td>1</td>\n",
       "      <td>1</td>\n",
       "      <td>39</td>\n",
       "      <td>0</td>\n",
       "      <td>0</td>\n",
       "      <td>0</td>\n",
       "      <td>1</td>\n",
       "      <td>2</td>\n",
       "      <td>2</td>\n",
       "      <td>75000</td>\n",
       "    </tr>\n",
       "    <tr>\n",
       "      <th>...</th>\n",
       "      <td>...</td>\n",
       "      <td>...</td>\n",
       "      <td>...</td>\n",
       "      <td>...</td>\n",
       "      <td>...</td>\n",
       "      <td>...</td>\n",
       "      <td>...</td>\n",
       "      <td>...</td>\n",
       "      <td>...</td>\n",
       "      <td>...</td>\n",
       "      <td>...</td>\n",
       "      <td>...</td>\n",
       "      <td>...</td>\n",
       "      <td>...</td>\n",
       "      <td>...</td>\n",
       "    </tr>\n",
       "    <tr>\n",
       "      <th>20932</th>\n",
       "      <td>1.0</td>\n",
       "      <td>0</td>\n",
       "      <td>0</td>\n",
       "      <td>2</td>\n",
       "      <td>0</td>\n",
       "      <td>1</td>\n",
       "      <td>1</td>\n",
       "      <td>41</td>\n",
       "      <td>0</td>\n",
       "      <td>0</td>\n",
       "      <td>0</td>\n",
       "      <td>1</td>\n",
       "      <td>2</td>\n",
       "      <td>2</td>\n",
       "      <td>91200</td>\n",
       "    </tr>\n",
       "    <tr>\n",
       "      <th>20933</th>\n",
       "      <td>1.0</td>\n",
       "      <td>0</td>\n",
       "      <td>0</td>\n",
       "      <td>2</td>\n",
       "      <td>0</td>\n",
       "      <td>1</td>\n",
       "      <td>1</td>\n",
       "      <td>41</td>\n",
       "      <td>0</td>\n",
       "      <td>0</td>\n",
       "      <td>0</td>\n",
       "      <td>1</td>\n",
       "      <td>2</td>\n",
       "      <td>2</td>\n",
       "      <td>91200</td>\n",
       "    </tr>\n",
       "    <tr>\n",
       "      <th>20934</th>\n",
       "      <td>1.0</td>\n",
       "      <td>0</td>\n",
       "      <td>0</td>\n",
       "      <td>2</td>\n",
       "      <td>0</td>\n",
       "      <td>1</td>\n",
       "      <td>1</td>\n",
       "      <td>41</td>\n",
       "      <td>0</td>\n",
       "      <td>0</td>\n",
       "      <td>0</td>\n",
       "      <td>1</td>\n",
       "      <td>2</td>\n",
       "      <td>2</td>\n",
       "      <td>91200</td>\n",
       "    </tr>\n",
       "    <tr>\n",
       "      <th>21100</th>\n",
       "      <td>0.0</td>\n",
       "      <td>0</td>\n",
       "      <td>0</td>\n",
       "      <td>2</td>\n",
       "      <td>0</td>\n",
       "      <td>0</td>\n",
       "      <td>1</td>\n",
       "      <td>15</td>\n",
       "      <td>0</td>\n",
       "      <td>0</td>\n",
       "      <td>0</td>\n",
       "      <td>1</td>\n",
       "      <td>2</td>\n",
       "      <td>2</td>\n",
       "      <td>0</td>\n",
       "    </tr>\n",
       "    <tr>\n",
       "      <th>21101</th>\n",
       "      <td>0.0</td>\n",
       "      <td>0</td>\n",
       "      <td>0</td>\n",
       "      <td>2</td>\n",
       "      <td>0</td>\n",
       "      <td>0</td>\n",
       "      <td>1</td>\n",
       "      <td>15</td>\n",
       "      <td>0</td>\n",
       "      <td>0</td>\n",
       "      <td>0</td>\n",
       "      <td>1</td>\n",
       "      <td>2</td>\n",
       "      <td>2</td>\n",
       "      <td>0</td>\n",
       "    </tr>\n",
       "  </tbody>\n",
       "</table>\n",
       "<p>1843 rows × 15 columns</p>\n",
       "</div>"
      ],
      "text/plain": [
       "       HESH2  HINC_FR  HINC_SE  H_NUMPER  HH5TO18  H_TELHHD  H_TENURE  HHINC  \\\n",
       "0        1.0        0        0         2        0         1         1     39   \n",
       "1        1.0        0        0         4        1         1         0     25   \n",
       "2        1.0        0        0         2        0         1         1     39   \n",
       "3        1.0        0        0         4        1         1         0     25   \n",
       "4        1.0        0        0         2        0         1         1     39   \n",
       "...      ...      ...      ...       ...      ...       ...       ...    ...   \n",
       "20932    1.0        0        0         2        0         1         1     41   \n",
       "20933    1.0        0        0         2        0         1         1     41   \n",
       "20934    1.0        0        0         2        0         1         1     41   \n",
       "21100    0.0        0        0         2        0         0         1     15   \n",
       "21101    0.0        0        0         2        0         0         1     15   \n",
       "\n",
       "       HSEVAL  HDIS_YN  HINC_WC  HUNITS  HED_YN  HCSP_YN  HWSVAL  \n",
       "0           0        0        0       1       2        2   75000  \n",
       "1           0        0        0       1       1        2   60000  \n",
       "2           0        0        0       1       2        2   75000  \n",
       "3           0        0        0       1       1        2   60000  \n",
       "4           0        0        0       1       2        2   75000  \n",
       "...       ...      ...      ...     ...     ...      ...     ...  \n",
       "20932       0        0        0       1       2        2   91200  \n",
       "20933       0        0        0       1       2        2   91200  \n",
       "20934       0        0        0       1       2        2   91200  \n",
       "21100       0        0        0       1       2        2       0  \n",
       "21101       0        0        0       1       2        2       0  \n",
       "\n",
       "[1843 rows x 15 columns]"
      ]
     },
     "execution_count": 20,
     "metadata": {},
     "output_type": "execute_result"
    }
   ],
   "source": [
    "merged"
   ]
  },
  {
   "cell_type": "markdown",
   "metadata": {},
   "source": [
    "# Part II. Descriptive Statistics for Entrepreneurs and Non-Entrepreneurs "
   ]
  },
  {
   "cell_type": "code",
   "execution_count": 21,
   "metadata": {},
   "outputs": [],
   "source": [
    "Non_Ent = merged[(merged.HINC_SE == 0)]\n",
    "Ent = merged[(merged.HINC_SE == 1)]"
   ]
  },
  {
   "cell_type": "code",
   "execution_count": 22,
   "metadata": {},
   "outputs": [],
   "source": [
    "ne_top_keys = Non_Ent['HHINC'].value_counts().index\n",
    "ne_top_values = Non_Ent['HHINC'].value_counts().tolist()/Non_Ent['HHINC'].value_counts().sum()\n",
    "\n",
    "e_top_keys = Ent['HHINC'].value_counts().index\n",
    "e_top_values = Ent['HHINC'].value_counts().tolist()/Ent['HHINC'].value_counts().sum()"
   ]
  },
  {
   "cell_type": "code",
   "execution_count": 23,
   "metadata": {},
   "outputs": [
    {
     "data": {
      "image/png": "[encoded data removed]",
      "text/plain": [
       "<Figure size 720x576 with 1 Axes>"
      ]
     },
     "metadata": {
      "needs_background": "light"
     },
     "output_type": "display_data"
    }
   ],
   "source": [
    "x1 = e_top_keys\n",
    "x2 = ne_top_keys\n",
    "y1 = e_top_values\n",
    "y2 = ne_top_values\n",
    "\n",
    "plt.figure(figsize=(10,8))\n",
    "width = 0.40   \n",
    "plt.bar(x1, y1, width, label='Entrepreneurs')\n",
    "plt.bar(x2 + width, y2 , width, label='Non-Entrepreneurs')\n",
    "\n",
    "plt.grid(b = True, color ='grey',\n",
    "        linestyle ='-.', linewidth = 0.5,\n",
    "        alpha = 0.7)\n",
    "\n",
    "plt.ylabel('Percent of Total')\n",
    "plt.xlabel('Total Household income - coded values')\n",
    "plt.title('Incomes as Reported by Farmers')\n",
    "plt.legend(loc='best')\n",
    "plt.show()"
   ]
  },
  {
   "cell_type": "code",
   "execution_count": 24,
   "metadata": {},
   "outputs": [],
   "source": [
    "# Almost half of self-employed farmers reported incomes over $100k (Value = 41 in DF), \n",
    "# The second and third most common incomes reported were $35,000 to $37,499 (15) and $30,000 to $32,499 (13). \n",
    "\n",
    "# Likewise, the most common response for Non-Entrepreneurs was also 41 (over $100k) .\n",
    "# The second and third most common responses were 13 ($30,000 to $32,499) and 17 ($40,000 to $42,499). "
   ]
  },
  {
   "cell_type": "markdown",
   "metadata": {},
   "source": [
    "### b. Self-Employment Income"
   ]
  },
  {
   "cell_type": "code",
   "execution_count": 25,
   "metadata": {},
   "outputs": [],
   "source": [
    "# No log "
   ]
  },
  {
   "cell_type": "code",
   "execution_count": null,
   "metadata": {},
   "outputs": [],
   "source": []
  },
  {
   "cell_type": "code",
   "execution_count": null,
   "metadata": {},
   "outputs": [],
   "source": []
  },
  {
   "cell_type": "code",
   "execution_count": 26,
   "metadata": {},
   "outputs": [],
   "source": [
    "# Log "
   ]
  },
  {
   "cell_type": "code",
   "execution_count": 27,
   "metadata": {},
   "outputs": [
    {
     "name": "stderr",
     "output_type": "stream",
     "text": [
      "/Users/sterlingstories/opt/anaconda3/lib/python3.8/site-packages/pandas/core/series.py:679: RuntimeWarning: divide by zero encountered in log\n",
      "  result = getattr(ufunc, method)(*inputs, **kwargs)\n"
     ]
    }
   ],
   "source": [
    "Non_E_log = np.log(Non_Ent['HWSVAL'])"
   ]
  },
  {
   "cell_type": "code",
   "execution_count": 28,
   "metadata": {},
   "outputs": [],
   "source": [
    "E_log = np.log(Ent['HSEVAL'])"
   ]
  },
  {
   "cell_type": "code",
   "execution_count": 29,
   "metadata": {},
   "outputs": [
    {
     "data": {
      "image/png": "[encoded data removed]",
      "text/plain": [
       "<Figure size 720x576 with 1 Axes>"
      ]
     },
     "metadata": {
      "needs_background": "light"
     },
     "output_type": "display_data"
    }
   ],
   "source": [
    "plt.figure(figsize=(10, 8))\n",
    "plt.boxplot([Non_E_log , E_log])\n",
    "plt.xlabel('Non-Entrepreneur and Entrepreneur Income Distributions: Log-Fit')\n",
    "plt.ylabel('Incomes')\n",
    "plt.title('Summary Statistic of Reported Incomes by Entrepreneurs')\n",
    "plt.show()"
   ]
  },
  {
   "cell_type": "code",
   "execution_count": 30,
   "metadata": {},
   "outputs": [],
   "source": [
    "# Cube "
   ]
  },
  {
   "cell_type": "code",
   "execution_count": 31,
   "metadata": {},
   "outputs": [],
   "source": [
    "Non_E_Cube = np.cbrt(Non_Ent['HWSVAL'])"
   ]
  },
  {
   "cell_type": "code",
   "execution_count": 32,
   "metadata": {},
   "outputs": [],
   "source": [
    "E_Cube = np.cbrt(Ent['HSEVAL'])"
   ]
  },
  {
   "cell_type": "code",
   "execution_count": 33,
   "metadata": {},
   "outputs": [
    {
     "data": {
      "image/png": "[encoded data removed]",
      "text/plain": [
       "<Figure size 720x576 with 1 Axes>"
      ]
     },
     "metadata": {
      "needs_background": "light"
     },
     "output_type": "display_data"
    }
   ],
   "source": [
    "plt.figure(figsize=(10, 8))\n",
    "plt.boxplot([Non_E_Cube, E_Cube])\n",
    "plt.xlabel('Non-Entrepreneur and Entrepreneur Income Distributions: Cube_root-Fit')\n",
    "plt.ylabel('Incomes')\n",
    "plt.title('Summary Statistic of Reported Incomes by Entrepreneurs')\n",
    "plt.show()"
   ]
  },
  {
   "cell_type": "markdown",
   "metadata": {},
   "source": [
    "### Are these results statistically significant? "
   ]
  },
  {
   "cell_type": "code",
   "execution_count": 34,
   "metadata": {},
   "outputs": [],
   "source": [
    "def hypothesis_test(p):\n",
    "    if p <= 0.05: return 'Reject the Null'\n",
    "    else: return 'Fail to Reject the Null'"
   ]
  },
  {
   "cell_type": "code",
   "execution_count": 35,
   "metadata": {},
   "outputs": [
    {
     "data": {
      "image/png": "[encoded data removed]",
      "text/plain": [
       "<Figure size 720x576 with 1 Axes>"
      ]
     },
     "metadata": {
      "needs_background": "light"
     },
     "output_type": "display_data"
    }
   ],
   "source": [
    "plt.figure(figsize=(10, 8))\n",
    "st.probplot(Non_E_Cube,dist='norm', fit=True, plot=plt)\n",
    "plt.show()"
   ]
  },
  {
   "cell_type": "code",
   "execution_count": 36,
   "metadata": {},
   "outputs": [
    {
     "data": {
      "image/png": "[encoded data removed]",
      "text/plain": [
       "<Figure size 720x576 with 1 Axes>"
      ]
     },
     "metadata": {
      "needs_background": "light"
     },
     "output_type": "display_data"
    }
   ],
   "source": [
    "plt.figure(figsize=(10, 8))\n",
    "st.probplot(E_Cube ,dist='norm', fit=True, plot=plt)\n",
    "plt.show()"
   ]
  },
  {
   "cell_type": "code",
   "execution_count": 37,
   "metadata": {},
   "outputs": [
    {
     "data": {
      "text/plain": [
       "'Reject the Null'"
      ]
     },
     "execution_count": 37,
     "metadata": {},
     "output_type": "execute_result"
    }
   ],
   "source": [
    "hypothesis_test(st.normaltest(Non_E_Cube)[1])"
   ]
  },
  {
   "cell_type": "code",
   "execution_count": 38,
   "metadata": {},
   "outputs": [
    {
     "data": {
      "text/plain": [
       "'Reject the Null'"
      ]
     },
     "execution_count": 38,
     "metadata": {},
     "output_type": "execute_result"
    }
   ],
   "source": [
    "hypothesis_test(st.normaltest(E_Cube)[1])"
   ]
  },
  {
   "cell_type": "markdown",
   "metadata": {},
   "source": [
    "### Central Limit Theorem"
   ]
  },
  {
   "cell_type": "code",
   "execution_count": 75,
   "metadata": {},
   "outputs": [
    {
     "name": "stderr",
     "output_type": "stream",
     "text": [
      "<ipython-input-75-257c823ce9f7>:1: SettingWithCopyWarning: \n",
      "A value is trying to be set on a copy of a slice from a DataFrame.\n",
      "Try using .loc[row_indexer,col_indexer] = value instead\n",
      "\n",
      "See the caveats in the documentation: https://pandas.pydata.org/pandas-docs/stable/user_guide/indexing.html#returning-a-view-versus-a-copy\n",
      "  Ent['HSEVAL'] = np.cbrt(Ent['HSEVAL'])\n",
      "<ipython-input-75-257c823ce9f7>:2: SettingWithCopyWarning: \n",
      "A value is trying to be set on a copy of a slice from a DataFrame.\n",
      "Try using .loc[row_indexer,col_indexer] = value instead\n",
      "\n",
      "See the caveats in the documentation: https://pandas.pydata.org/pandas-docs/stable/user_guide/indexing.html#returning-a-view-versus-a-copy\n",
      "  Non_Ent['HWSVAL'] = np.cbrt(Non_Ent['HWSVAL'])\n"
     ]
    }
   ],
   "source": [
    "Ent['HSEVAL'] = np.cbrt(Ent['HSEVAL'])\n",
    "Non_Ent['HWSVAL'] = np.cbrt(Non_Ent['HWSVAL'])"
   ]
  },
  {
   "cell_type": "code",
   "execution_count": 76,
   "metadata": {},
   "outputs": [],
   "source": [
    "import random\n",
    "from statistics import mean\n",
    "\n",
    "numSamples = 100\n",
    "sizeSample = 30\n",
    "\n",
    "\n",
    "entSamplesHSEVAL = list()\n",
    "nonEntSamplesHWSVAL = list()\n",
    "\n",
    "\n",
    "for i in range(numSamples):\n",
    "\n",
    "    entSampleHSEVAL = list()\n",
    "    nonEntSampleHWSVAL = list()\n",
    "\n",
    "\n",
    "    for j in range(sizeSample):\n",
    "\n",
    "        nEnt = random.randint(0, np.shape(Ent)[0] - 1)\n",
    "        nNon_Ent = random.randint(0, np.shape(Non_Ent)[0] - 1)\n",
    "\n",
    "\n",
    "        entHSEVAL = Ent['HSEVAL'].iat[nEnt]\n",
    "        nonEntHWSVAL = Non_Ent['HWSVAL'].iat[nNon_Ent]\n",
    "\n",
    "\n",
    "        entSampleHSEVAL.append(entHSEVAL)\n",
    "        nonEntSampleHWSVAL.append(nonEntHWSVAL)\n",
    "\n",
    "\n",
    "    entSamplesHSEVAL.append(mean(entSampleHSEVAL))\n",
    "    nonEntSamplesHWSVAL.append(mean(nonEntSampleHWSVAL))\n",
    "\n",
    "\n",
    "\n",
    "\n",
    "\n",
    "# entSamplesHSEVAL\n",
    "# nonEntSamplesHWSVAL"
   ]
  },
  {
   "cell_type": "code",
   "execution_count": 77,
   "metadata": {},
   "outputs": [
    {
     "data": {
      "text/plain": [
       "'Fail to Reject the Null'"
      ]
     },
     "execution_count": 77,
     "metadata": {},
     "output_type": "execute_result"
    }
   ],
   "source": [
    "hypothesis_test(st.normaltest(entSamplesHSEVAL)[1])"
   ]
  },
  {
   "cell_type": "code",
   "execution_count": 78,
   "metadata": {},
   "outputs": [
    {
     "data": {
      "text/plain": [
       "'Fail to Reject the Null'"
      ]
     },
     "execution_count": 78,
     "metadata": {},
     "output_type": "execute_result"
    }
   ],
   "source": [
    "hypothesis_test(st.normaltest(nonEntSamplesHWSVAL)[1])"
   ]
  },
  {
   "cell_type": "code",
   "execution_count": 79,
   "metadata": {},
   "outputs": [
    {
     "data": {
      "image/png": "[encoded data removed]",
      "text/plain": [
       "<Figure size 720x576 with 1 Axes>"
      ]
     },
     "metadata": {
      "needs_background": "light"
     },
     "output_type": "display_data"
    }
   ],
   "source": [
    "plt.figure(figsize=(10, 8))\n",
    "st.probplot(entSamplesHSEVAL ,dist='norm', fit=True, plot=plt)\n",
    "plt.show()"
   ]
  },
  {
   "cell_type": "code",
   "execution_count": 80,
   "metadata": {},
   "outputs": [
    {
     "data": {
      "image/png": "[encoded data removed]",
      "text/plain": [
       "<Figure size 720x576 with 1 Axes>"
      ]
     },
     "metadata": {
      "needs_background": "light"
     },
     "output_type": "display_data"
    }
   ],
   "source": [
    "plt.figure(figsize=(10, 8))\n",
    "st.probplot(nonEntSamplesHWSVAL ,dist='norm', fit=True, plot=plt)\n",
    "plt.show()"
   ]
  },
  {
   "cell_type": "markdown",
   "metadata": {},
   "source": [
    "### Testing for Variance "
   ]
  },
  {
   "cell_type": "code",
   "execution_count": 81,
   "metadata": {},
   "outputs": [
    {
     "data": {
      "text/plain": [
       "'Reject the Null'"
      ]
     },
     "execution_count": 81,
     "metadata": {},
     "output_type": "execute_result"
    }
   ],
   "source": [
    "hypothesis_test(st.levene(entSamplesHSEVAL, nonEntSamplesHWSVAL)[1])"
   ]
  },
  {
   "cell_type": "markdown",
   "metadata": {},
   "source": [
    "### T-Test"
   ]
  },
  {
   "cell_type": "code",
   "execution_count": 82,
   "metadata": {},
   "outputs": [
    {
     "data": {
      "text/plain": [
       "'Reject the Null'"
      ]
     },
     "execution_count": 82,
     "metadata": {},
     "output_type": "execute_result"
    }
   ],
   "source": [
    "hypothesis_test(st.ttest_ind(entSamplesHSEVAL, nonEntSamplesHWSVAL)[1])"
   ]
  },
  {
   "cell_type": "code",
   "execution_count": 83,
   "metadata": {},
   "outputs": [],
   "source": [
    "# The differences in wages between entrepreneurs and non-entrepreneurs are indeed statistically significant. "
   ]
  },
  {
   "cell_type": "markdown",
   "metadata": {},
   "source": [
    "# Part III. Modeling "
   ]
  },
  {
   "cell_type": "code",
   "execution_count": 47,
   "metadata": {},
   "outputs": [],
   "source": [
    "# ModelH_NUMPER = smf.logit(formula='', data=merged).fit()"
   ]
  },
  {
   "cell_type": "code",
   "execution_count": 48,
   "metadata": {},
   "outputs": [
    {
     "name": "stdout",
     "output_type": "stream",
     "text": [
      "                 Results: Ordinary least squares\n",
      "==================================================================\n",
      "Model:              OLS              Adj. R-squared:     0.024    \n",
      "Dependent Variable: HESH2            AIC:                2385.2296\n",
      "Date:               2021-04-20 02:03 BIC:                2445.9403\n",
      "No. Observations:   1843             Log-Likelihood:     -1181.6  \n",
      "Df Model:           10               F-statistic:        5.546    \n",
      "Df Residuals:       1832             Prob (F-statistic): 3.51e-08 \n",
      "R-squared:          0.029            Scale:              0.21233  \n",
      "-------------------------------------------------------------------\n",
      "                Coef.   Std.Err.     t     P>|t|    [0.025   0.975]\n",
      "-------------------------------------------------------------------\n",
      "Intercept       0.4529    0.0724   6.2518  0.0000   0.3108   0.5950\n",
      "HINC_FR        -0.0682    0.0669  -1.0194  0.3081  -0.1994   0.0630\n",
      "HINC_SE        -0.1961    0.0390  -5.0324  0.0000  -0.2725  -0.1197\n",
      "H_NUMPER        0.0044    0.0114   0.3845  0.7007  -0.0180   0.0268\n",
      "HH5TO18        -0.0215    0.0173  -1.2438  0.2137  -0.0555   0.0124\n",
      "H_TELHHD       -0.0688    0.0696  -0.9895  0.3225  -0.2053   0.0676\n",
      "H_TENURE       -0.0467    0.0240  -1.9470  0.0517  -0.0938   0.0003\n",
      "HHINC          -0.0008    0.0009  -0.9574  0.3385  -0.0026   0.0009\n",
      "HSEVAL          0.0000    0.0000   2.7236  0.0065   0.0000   0.0000\n",
      "HDIS_YN         0.3905    0.0932   4.1896  0.0000   0.2077   0.5733\n",
      "HINC_WC        -0.1707    0.1268  -1.3466  0.1783  -0.4193   0.0779\n",
      "------------------------------------------------------------------\n",
      "Omnibus:              9198.643      Durbin-Watson:         0.816  \n",
      "Prob(Omnibus):        0.000         Jarque-Bera (JB):      309.371\n",
      "Skew:                 0.754         Prob(JB):              0.000  \n",
      "Kurtosis:             1.676         Condition No.:         630142 \n",
      "==================================================================\n",
      "* The condition number is large (6e+05). This might indicate\n",
      "strong multicollinearity or other numerical problems.\n"
     ]
    }
   ],
   "source": [
    "result1 = smf.ols('HESH2 ~ HINC_FR + HINC_SE + H_NUMPER + HH5TO18 + H_TELHHD + H_TENURE + HHINC + HSEVAL + HDIS_YN + HINC_WC', data=merged).fit()\n",
    "print(result1.summary2())"
   ]
  },
  {
   "cell_type": "code",
   "execution_count": 49,
   "metadata": {},
   "outputs": [
    {
     "name": "stdout",
     "output_type": "stream",
     "text": [
      "                 Results: Ordinary least squares\n",
      "==================================================================\n",
      "Model:              OLS              Adj. R-squared:     0.021    \n",
      "Dependent Variable: HESH2            AIC:                2390.6771\n",
      "Date:               2021-04-20 02:03 BIC:                2445.8686\n",
      "No. Observations:   1843             Log-Likelihood:     -1185.3  \n",
      "Df Model:           9                F-statistic:        5.319    \n",
      "Df Residuals:       1833             Prob (F-statistic): 3.38e-07 \n",
      "R-squared:          0.025            Scale:              0.21307  \n",
      "-------------------------------------------------------------------\n",
      "                Coef.   Std.Err.     t     P>|t|    [0.025   0.975]\n",
      "-------------------------------------------------------------------\n",
      "Intercept       0.4472    0.0725   6.1652  0.0000   0.3050   0.5895\n",
      "HINC_FR        -0.0397    0.0662  -0.6000  0.5486  -0.1696   0.0901\n",
      "HINC_SE        -0.1651    0.0373  -4.4225  0.0000  -0.2384  -0.0919\n",
      "H_NUMPER        0.0044    0.0115   0.3803  0.7038  -0.0181   0.0268\n",
      "HH5TO18        -0.0201    0.0173  -1.1617  0.2455  -0.0541   0.0139\n",
      "H_TELHHD       -0.0677    0.0697  -0.9719  0.3312  -0.2044   0.0690\n",
      "H_TENURE       -0.0463    0.0240  -1.9268  0.0542  -0.0935   0.0008\n",
      "HHINC          -0.0007    0.0009  -0.8082  0.4191  -0.0024   0.0010\n",
      "HDIS_YN         0.3837    0.0933   4.1105  0.0000   0.2006   0.5667\n",
      "HINC_WC        -0.1672    0.1270  -1.3166  0.1881  -0.4162   0.0818\n",
      "------------------------------------------------------------------\n",
      "Omnibus:             12100.032      Durbin-Watson:         0.813  \n",
      "Prob(Omnibus):       0.000          Jarque-Bera (JB):      312.304\n",
      "Skew:                0.757          Prob(JB):              0.000  \n",
      "Kurtosis:            1.669          Condition No.:         345    \n",
      "==================================================================\n",
      "\n"
     ]
    }
   ],
   "source": [
    "result1 = smf.ols('HESH2 ~ HINC_FR + HINC_SE + H_NUMPER + HH5TO18 + H_TELHHD + H_TENURE + HHINC + HDIS_YN + HINC_WC', data=merged).fit()\n",
    "print(result1.summary2())"
   ]
  },
  {
   "cell_type": "code",
   "execution_count": 50,
   "metadata": {},
   "outputs": [
    {
     "name": "stdout",
     "output_type": "stream",
     "text": [
      "Optimization terminated successfully.\n",
      "         Current function value: 0.613239\n",
      "         Iterations 6\n",
      "                         Results: Logit\n",
      "=================================================================\n",
      "Model:              Logit            Pseudo R-squared: 0.021     \n",
      "Dependent Variable: HESH2            AIC:              2280.3991 \n",
      "Date:               2021-04-20 02:03 BIC:              2335.5906 \n",
      "No. Observations:   1843             Log-Likelihood:   -1130.2   \n",
      "Df Model:           9                LL-Null:          -1154.7   \n",
      "Df Residuals:       1833             LLR p-value:      1.5934e-07\n",
      "Converged:          1.0000           Scale:            1.0000    \n",
      "No. Iterations:     6.0000                                       \n",
      "------------------------------------------------------------------\n",
      "               Coef.   Std.Err.     z     P>|z|    [0.025   0.975]\n",
      "------------------------------------------------------------------\n",
      "Intercept     -0.1861    0.3282  -0.5671  0.5707  -0.8294   0.4572\n",
      "HINC_FR       -0.2393    0.3530  -0.6781  0.4977  -0.9311   0.4525\n",
      "HINC_SE       -0.9367    0.2155  -4.3468  0.0000  -1.3591  -0.5144\n",
      "H_NUMPER       0.0226    0.0532   0.4256  0.6704  -0.0816   0.1269\n",
      "HH5TO18       -0.0976    0.0824  -1.1850  0.2360  -0.2591   0.0638\n",
      "H_TELHHD      -0.3027    0.3149  -0.9613  0.3364  -0.9199   0.3145\n",
      "H_TENURE      -0.2101    0.1112  -1.8894  0.0588  -0.4280   0.0078\n",
      "HHINC         -0.0033    0.0041  -0.8093  0.4184  -0.0114   0.0047\n",
      "HDIS_YN        1.7640    0.4509   3.9126  0.0001   0.8803   2.6477\n",
      "HINC_WC       -0.8883    0.6695  -1.3268  0.1846  -2.2005   0.4239\n",
      "=================================================================\n",
      "\n"
     ]
    }
   ],
   "source": [
    "result2 = smf.logit('HESH2 ~ HINC_FR + HINC_SE + H_NUMPER + HH5TO18 + H_TELHHD + H_TENURE + HHINC + HDIS_YN + HINC_WC', data=merged).fit()\n",
    "print(result2.summary2())"
   ]
  },
  {
   "cell_type": "code",
   "execution_count": null,
   "metadata": {},
   "outputs": [],
   "source": []
  }
 ],
 "metadata": {
  "kernelspec": {
   "display_name": "Python 3",
   "language": "python",
   "name": "python3"
  },
  "language_info": {
   "codemirror_mode": {
    "name": "ipython",
    "version": 3
   },
   "file_extension": ".py",
   "mimetype": "text/x-python",
   "name": "python",
   "nbconvert_exporter": "python",
   "pygments_lexer": "ipython3",
   "version": "3.8.3"
  }
 },
 "nbformat": 4,
 "nbformat_minor": 4
}
