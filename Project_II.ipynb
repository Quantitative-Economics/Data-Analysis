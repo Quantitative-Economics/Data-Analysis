{
 "cells": [
  {
   "cell_type": "markdown",
   "metadata": {},
   "source": [
    "## Research Question "
   ]
  },
  {
   "cell_type": "markdown",
   "metadata": {},
   "source": [
    "#### Group 4: Christopher Perez, Ernesto Perez, Kevin Santamaria"
   ]
  },
  {
   "cell_type": "code",
   "execution_count": 1,
   "metadata": {},
   "outputs": [],
   "source": [
    "import pandas as pd \n",
    "import numpy as np \n",
    "import matplotlib.pyplot as plt \n",
    "import scipy.stats as st\n",
    "import math\n",
    "import statsmodels.formula.api as smf "
   ]
  },
  {
   "cell_type": "markdown",
   "metadata": {},
   "source": [
    "### Part I. Importing the data"
   ]
  },
  {
   "cell_type": "code",
   "execution_count": 2,
   "metadata": {},
   "outputs": [],
   "source": [
    "df = pd.read_csv('dec19pub.csv')\n",
    "df2 = pd.read_csv('hhpub19.csv')"
   ]
  },
  {
   "cell_type": "code",
   "execution_count": 3,
   "metadata": {},
   "outputs": [
    {
     "data": {
      "text/plain": [
       "-1    124421\n",
       " 2      9728\n",
       " 1      4713\n",
       "-9        45\n",
       "-3        37\n",
       "-2        20\n",
       "Name: HESH2, dtype: int64"
      ]
     },
     "execution_count": 3,
     "metadata": {},
     "output_type": "execute_result"
    }
   ],
   "source": [
    "#Pg 132- 'In the last 12 months did (you/you or other adults in your household) ever cut the size of your meals or skip meals because there wasn't enough money for food?'\n",
    "\n",
    "# 1:Yes \n",
    "# 2:No \n",
    "# -1: (blank)\n",
    "# -2:Don't Know \n",
    "# -3:Refused\n",
    "# 9:No Response\n",
    "\n",
    "df['HESH2'].value_counts()"
   ]
  },
  {
   "cell_type": "code",
   "execution_count": null,
   "metadata": {},
   "outputs": [],
   "source": [
    "### This is the value we have to use:\n",
    "\n",
    "# ERN_SRCE\n",
    "\n",
    "#source of earnings from longest job1(0:4)365Values:0 = niu 1 = wage and salary 2 = self employment 3 = farm self employment 4 = without pay"
   ]
  },
  {
   "cell_type": "code",
   "execution_count": 4,
   "metadata": {},
   "outputs": [
    {
     "data": {
      "text/plain": [
       "2    67275\n",
       "0    26288\n",
       "1     1070\n",
       "Name: HINC_FR, dtype: int64"
      ]
     },
     "execution_count": 4,
     "metadata": {},
     "output_type": "execute_result"
    }
   ],
   "source": [
    "# Farm self-employment\n",
    "#0 = nui \n",
    "#1 = yes\n",
    "#2 = no\n",
    "\n",
    "df2['HINC_FR'].value_counts()"
   ]
  },
  {
   "cell_type": "code",
   "execution_count": 5,
   "metadata": {},
   "outputs": [
    {
     "data": {
      "text/plain": [
       "2    62331\n",
       "0    26288\n",
       "1     6014\n",
       "Name: HINC_SE, dtype: int64"
      ]
     },
     "execution_count": 5,
     "metadata": {},
     "output_type": "execute_result"
    }
   ],
   "source": [
    "# Own Business Self-Employment\n",
    "#0 = nui \n",
    "#1 = yes\n",
    "#2 = no\n",
    "\n",
    "df2['HINC_SE'].value_counts()"
   ]
  },
  {
   "cell_type": "code",
   "execution_count": 6,
   "metadata": {},
   "outputs": [
    {
     "data": {
      "text/plain": [
       "3    36727\n",
       "4    24782\n",
       "2    17504\n",
       "1    15620\n",
       "Name: GEREG, dtype: int64"
      ]
     },
     "execution_count": 6,
     "metadata": {},
     "output_type": "execute_result"
    }
   ],
   "source": [
    "# Region \n",
    "# 1 = Northeast          \n",
    "# 2 = Midwest          \n",
    "# 3 = South          \n",
    "# 4 = West\n",
    "\n",
    "df2[\"GEREG\"].value_counts()"
   ]
  },
  {
   "cell_type": "code",
   "execution_count": 7,
   "metadata": {},
   "outputs": [
    {
     "data": {
      "text/plain": [
       "1    75271\n",
       "2    18375\n",
       "3      987\n",
       "Name: GTMETSTA, dtype: int64"
      ]
     },
     "execution_count": 7,
     "metadata": {},
     "output_type": "execute_result"
    }
   ],
   "source": [
    "# Metropolitan Status\n",
    "# 1 = Metropolitan          2 = Non-metropolitan          3 = Not identified\n",
    "\n",
    "df2[\"GTMETSTA\"].value_counts()"
   ]
  },
  {
   "cell_type": "code",
   "execution_count": 8,
   "metadata": {},
   "outputs": [
    {
     "data": {
      "text/plain": [
       "-1     25815\n",
       " 15     8931\n",
       " 14     8352\n",
       " 16     7965\n",
       " 13     6969\n",
       " 12     5509\n",
       " 11     5492\n",
       " 9      3975\n",
       " 10     3750\n",
       " 7      3660\n",
       " 8      3374\n",
       " 6      2869\n",
       " 4      1999\n",
       " 1      1828\n",
       " 5      1750\n",
       " 3      1501\n",
       " 2       894\n",
       "Name: HEFAMINC, dtype: int64"
      ]
     },
     "execution_count": 8,
     "metadata": {},
     "output_type": "execute_result"
    }
   ],
   "source": [
    "# Family Income \n",
    "# -1=Not in universe         \n",
    "#01=Less than $5,000         02=$5,000 to $7,499         03=$7,500 to $9,999         04=$10,000 to $12,499         05=$12,500 to $14,999         \n",
    "#06=$15,000 to $19,999         07=$20,000 to $24,999         08=$25,000 to $29,999         09=$30,000 to $34,999         10=$35,000 to $39,999         11=$40,000 to $49,999         \n",
    "#12=$50,000 to $59,999         13=$60,000 to $74,999         14=$75,000 to $99,999         15=$100,000 to $149,999         16=$150,000 and over\n",
    "\n",
    "df2[\"HEFAMINC\"].value_counts()"
   ]
  },
  {
   "cell_type": "code",
   "execution_count": 9,
   "metadata": {},
   "outputs": [
    {
     "data": {
      "text/plain": [
       "1     33987\n",
       "0     26288\n",
       "7     11179\n",
       "6     10152\n",
       "4      8763\n",
       "3      3695\n",
       "2       488\n",
       "10       30\n",
       "8        19\n",
       "5        18\n",
       "9        14\n",
       "Name: HRHTYPE, dtype: int64"
      ]
     },
     "execution_count": 9,
     "metadata": {},
     "output_type": "execute_result"
    }
   ],
   "source": [
    "# HOUSEHOLD TYPE\n",
    "#00 = Non-interview household         01 = Married couple primary family (neither spouse in Armed Forces)         02 = Married couple primary family (one spouse in Armed Forces)         03 = Unmarried civilian male primary family householder         04 = Unmarried civilian female primary family householder         05 = Primary family household -reference person in Armed Forces and unmarried         06 = Civilian male nonfamily householder         07 = Civilian female nonfamily householder         08 = Nonfamily householder household -reference person in Armed Forces         09 = Group quarters with actual families  (This is new in 1994)         10 = Group quarters with secondary individuals only\n",
    "\n",
    "df2[\"HRHTYPE\"].value_counts()"
   ]
  },
  {
   "cell_type": "code",
   "execution_count": 10,
   "metadata": {},
   "outputs": [
    {
     "data": {
      "text/plain": [
       "1    71932\n",
       "0    19812\n",
       "2     2889\n",
       "Name: H_TELHHD, dtype: int64"
      ]
     },
     "execution_count": 10,
     "metadata": {},
     "output_type": "execute_result"
    }
   ],
   "source": [
    "# Telephone in Household\n",
    "#0 = Not in universe          1 = Yes          2 = No\n",
    "\n",
    "df2[\"H_TELHHD\"].value_counts()"
   ]
  },
  {
   "cell_type": "code",
   "execution_count": 11,
   "metadata": {},
   "outputs": [
    {
     "data": {
      "text/plain": [
       "1    48839\n",
       "2    26451\n",
       "0    18369\n",
       "3      974\n",
       "Name: H_TENURE, dtype: int64"
      ]
     },
     "execution_count": 11,
     "metadata": {},
     "output_type": "execute_result"
    }
   ],
   "source": [
    "# Tenure\n",
    "# 0=Not in universe          1=Owned or being bought          2=Rented         3=No cash rent\n",
    "\n",
    "df2[\"H_TENURE\"].value_counts()"
   ]
  },
  {
   "cell_type": "code",
   "execution_count": 12,
   "metadata": {},
   "outputs": [
    {
     "data": {
      "text/plain": [
       "0     26288\n",
       "41    21122\n",
       "13     1827\n",
       "21     1759\n",
       "15     1716\n",
       "11     1665\n",
       "9      1664\n",
       "1      1659\n",
       "17     1623\n",
       "7      1599\n",
       "5      1592\n",
       "19     1474\n",
       "25     1469\n",
       "8      1387\n",
       "10     1375\n",
       "23     1336\n",
       "6      1330\n",
       "31     1245\n",
       "4      1228\n",
       "29     1216\n",
       "14     1202\n",
       "12     1198\n",
       "27     1186\n",
       "16     1174\n",
       "33     1113\n",
       "20     1074\n",
       "18     1064\n",
       "22     1031\n",
       "37     1008\n",
       "24      988\n",
       "35      988\n",
       "26      975\n",
       "28      907\n",
       "39      851\n",
       "32      834\n",
       "30      822\n",
       "34      716\n",
       "36      665\n",
       "38      610\n",
       "40      595\n",
       "3       583\n",
       "2       475\n",
       "Name: HHINC, dtype: int64"
      ]
     },
     "execution_count": 12,
     "metadata": {},
     "output_type": "execute_result"
    }
   ],
   "source": [
    "#Total HouseHold Income\n",
    "#UNDER $2,500    2=$2,500 TO $4,999    3=$5,000 TO $7,499    4=$7,500 TO $9,999    5=$10,000 TO $12,499    6=$12,500 TO $14,999    7=$15,000 TO $17,499    8=$17,500 TO $19,999    9=$20,000 TO $22,499    10=$22,500 TO $24,999\n",
    "#11=$25,000 TO $27,49912=$27,500 TO $29,99913=$30,000 TO $32,49914=$32,500 TO $34,99915=$35,000 TO $37,49916=$37,500 TO $39,99917=$40,000 TO $42,49918=$42,500 TO $44,99919=$45,000 TO $47,49920=$47,500 TO $49,999\n",
    "#21=$50,000 TO $52,49922=$52,500 TO $54,99923=$55,000 TO $57,49924=$57,500 TO $59,99925=$60,000 TO $62,49926=$62,500 TO $64,99927=$65,000 TO $67,49928=$67,500 TO $69,99929=$70,000 TO $72,49930=$72,500 TO $74,999\n",
    "#31=$75,000 TO $77,49932=$77,500 TO $79,99933=$80,000 TO $82,49934=$82,500 TO $84,99935=$85,000 TO $87,49936=$87,500 TO $89,99937=$90,000 TO $92,49938=$92,500 TO $94,99939=$95,000 TO $97,49940=$97,500 TO $99,99941=$100,000 AND OVER\n",
    "\n",
    "df2[\"HHINC\"].value_counts()"
   ]
  },
  {
   "cell_type": "code",
   "execution_count": 13,
   "metadata": {},
   "outputs": [
    {
     "name": "stdout",
     "output_type": "stream",
     "text": [
      "-19356 1102199\n"
     ]
    }
   ],
   "source": [
    "# Household income = self-employment income \n",
    "# 0 = none negative dollar amount = income losspositive dollar amount = income\n",
    "\n",
    "print(df2[\"HSEVAL\"].min(), df2[\"HSEVAL\"].max())"
   ]
  },
  {
   "cell_type": "code",
   "execution_count": 14,
   "metadata": {},
   "outputs": [],
   "source": [
    "# new_dataframe = df[[\"HRHHID\", \"HESH2\"]], df2[['HINC_FR', 'HINC_SE', \"H_NUMPER\", \"GEREG\", \"GTMETSTA\", \"HEFAMINC\", \"HH5TO18\", \"HRHTYPE\", \"H_TELHHD\", \"H_TENURE\", \"HHINC\", \"HSEVAL\", \"HDIS_YN\", \"HDIV_YN\", \"HINC_WC\"]]"
   ]
  },
  {
   "cell_type": "code",
   "execution_count": 15,
   "metadata": {},
   "outputs": [],
   "source": [
    "## Condensed Dataset\n",
    "ndd = df2[['HINC_FR', 'HINC_SE', \"H_NUMPER\", \"GEREG\", \"GTMETSTA\", \"HEFAMINC\", \"HH5TO18\", \"HRHTYPE\", \"H_TELHHD\", \"H_TENURE\", \"HHINC\", \"HSEVAL\", \"HDIS_YN\", \"HDIV_YN\", \"HINC_WC\"]]"
   ]
  },
  {
   "cell_type": "markdown",
   "metadata": {},
   "source": [
    "# Reported Incomes of Entrepreneurs vs Non-Entrepreneurs "
   ]
  },
  {
   "cell_type": "code",
   "execution_count": 16,
   "metadata": {},
   "outputs": [
    {
     "name": "stderr",
     "output_type": "stream",
     "text": [
      "<ipython-input-16-203ae1fac047>:15: SettingWithCopyWarning: \n",
      "A value is trying to be set on a copy of a slice from a DataFrame.\n",
      "Try using .loc[row_indexer,col_indexer] = value instead\n",
      "\n",
      "See the caveats in the documentation: https://pandas.pydata.org/pandas-docs/stable/user_guide/indexing.html#returning-a-view-versus-a-copy\n",
      "  ndd['HINC_FR']=ndd['HINC_FR'].map({1:1, 0:3, 2: 2})\n",
      "<ipython-input-16-203ae1fac047>:16: SettingWithCopyWarning: \n",
      "A value is trying to be set on a copy of a slice from a DataFrame.\n",
      "Try using .loc[row_indexer,col_indexer] = value instead\n",
      "\n",
      "See the caveats in the documentation: https://pandas.pydata.org/pandas-docs/stable/user_guide/indexing.html#returning-a-view-versus-a-copy\n",
      "  ndd['HINC_SE']=ndd['HINC_SE'].map({1:1, 0:3, 2: 2})\n"
     ]
    }
   ],
   "source": [
    "#Treating the data \n",
    "\n",
    "#Farmers and Non-Farmer Entrepreneurs ndd['HINC_FR'] and ndd['HINC_SE'] accordingly \n",
    "\n",
    "#Original: \n",
    "#0 = nui \n",
    "#1 = yes\n",
    "#2 = no\n",
    "\n",
    "#Changing to: \n",
    "# 1 = yes\n",
    "# 0 = no \n",
    "# 3 = needs treatment \n",
    "\n",
    "ndd['HINC_FR']=ndd['HINC_FR'].map({1:1, 0:3, 2: 2}) \n",
    "ndd['HINC_SE']=ndd['HINC_SE'].map({1:1, 0:3, 2: 2})"
   ]
  },
  {
   "cell_type": "code",
   "execution_count": 17,
   "metadata": {},
   "outputs": [
    {
     "name": "stderr",
     "output_type": "stream",
     "text": [
      "<ipython-input-17-cf02b67c29b0>:3: SettingWithCopyWarning: \n",
      "A value is trying to be set on a copy of a slice from a DataFrame.\n",
      "Try using .loc[row_indexer,col_indexer] = value instead\n",
      "\n",
      "See the caveats in the documentation: https://pandas.pydata.org/pandas-docs/stable/user_guide/indexing.html#returning-a-view-versus-a-copy\n",
      "  ndd['HINC_FR']=ndd['HINC_FR'].map({1:1, 3:3, 2: 0})\n",
      "<ipython-input-17-cf02b67c29b0>:4: SettingWithCopyWarning: \n",
      "A value is trying to be set on a copy of a slice from a DataFrame.\n",
      "Try using .loc[row_indexer,col_indexer] = value instead\n",
      "\n",
      "See the caveats in the documentation: https://pandas.pydata.org/pandas-docs/stable/user_guide/indexing.html#returning-a-view-versus-a-copy\n",
      "  ndd['HINC_SE']=ndd['HINC_SE'].map({1:1, 3:3, 2: 0})\n"
     ]
    }
   ],
   "source": [
    "# Must change values in separate lines of code, otherwise will get CopyWarning Error \n",
    "\n",
    "ndd['HINC_FR']=ndd['HINC_FR'].map({1:1, 3:3, 2: 0}) \n",
    "ndd['HINC_SE']=ndd['HINC_SE'].map({1:1, 3:3, 2: 0})"
   ]
  },
  {
   "cell_type": "code",
   "execution_count": 56,
   "metadata": {},
   "outputs": [],
   "source": [
    "Farmer_Non_Ent = ndd[(ndd.HINC_FR == 0)]\n",
    "Farmer_Ent = ndd[(ndd.HINC_FR == 1) & (ndd.HINC_SE == 1)]"
   ]
  },
  {
   "cell_type": "code",
   "execution_count": 57,
   "metadata": {},
   "outputs": [
    {
     "data": {
      "text/html": [
       "<div>\n",
       "<style scoped>\n",
       "    .dataframe tbody tr th:only-of-type {\n",
       "        vertical-align: middle;\n",
       "    }\n",
       "\n",
       "    .dataframe tbody tr th {\n",
       "        vertical-align: top;\n",
       "    }\n",
       "\n",
       "    .dataframe thead th {\n",
       "        text-align: right;\n",
       "    }\n",
       "</style>\n",
       "<table border=\"1\" class=\"dataframe\">\n",
       "  <thead>\n",
       "    <tr style=\"text-align: right;\">\n",
       "      <th></th>\n",
       "      <th>HINC_FR</th>\n",
       "      <th>HINC_SE</th>\n",
       "      <th>H_NUMPER</th>\n",
       "      <th>GEREG</th>\n",
       "      <th>GTMETSTA</th>\n",
       "      <th>HEFAMINC</th>\n",
       "      <th>HH5TO18</th>\n",
       "      <th>HRHTYPE</th>\n",
       "      <th>H_TELHHD</th>\n",
       "      <th>H_TENURE</th>\n",
       "      <th>HHINC</th>\n",
       "      <th>HSEVAL</th>\n",
       "      <th>HDIS_YN</th>\n",
       "      <th>HDIV_YN</th>\n",
       "      <th>HINC_WC</th>\n",
       "    </tr>\n",
       "  </thead>\n",
       "  <tbody>\n",
       "    <tr>\n",
       "      <th>116</th>\n",
       "      <td>1</td>\n",
       "      <td>1</td>\n",
       "      <td>1</td>\n",
       "      <td>1</td>\n",
       "      <td>2</td>\n",
       "      <td>10</td>\n",
       "      <td>0</td>\n",
       "      <td>7</td>\n",
       "      <td>1</td>\n",
       "      <td>1</td>\n",
       "      <td>16</td>\n",
       "      <td>24001</td>\n",
       "      <td>2</td>\n",
       "      <td>2</td>\n",
       "      <td>2</td>\n",
       "    </tr>\n",
       "    <tr>\n",
       "      <th>117</th>\n",
       "      <td>1</td>\n",
       "      <td>1</td>\n",
       "      <td>3</td>\n",
       "      <td>1</td>\n",
       "      <td>2</td>\n",
       "      <td>14</td>\n",
       "      <td>1</td>\n",
       "      <td>1</td>\n",
       "      <td>1</td>\n",
       "      <td>1</td>\n",
       "      <td>39</td>\n",
       "      <td>50001</td>\n",
       "      <td>2</td>\n",
       "      <td>2</td>\n",
       "      <td>2</td>\n",
       "    </tr>\n",
       "    <tr>\n",
       "      <th>318</th>\n",
       "      <td>1</td>\n",
       "      <td>1</td>\n",
       "      <td>2</td>\n",
       "      <td>1</td>\n",
       "      <td>2</td>\n",
       "      <td>13</td>\n",
       "      <td>0</td>\n",
       "      <td>1</td>\n",
       "      <td>1</td>\n",
       "      <td>1</td>\n",
       "      <td>41</td>\n",
       "      <td>10000</td>\n",
       "      <td>2</td>\n",
       "      <td>1</td>\n",
       "      <td>2</td>\n",
       "    </tr>\n",
       "    <tr>\n",
       "      <th>378</th>\n",
       "      <td>1</td>\n",
       "      <td>1</td>\n",
       "      <td>2</td>\n",
       "      <td>1</td>\n",
       "      <td>2</td>\n",
       "      <td>14</td>\n",
       "      <td>0</td>\n",
       "      <td>7</td>\n",
       "      <td>1</td>\n",
       "      <td>1</td>\n",
       "      <td>41</td>\n",
       "      <td>1</td>\n",
       "      <td>2</td>\n",
       "      <td>1</td>\n",
       "      <td>2</td>\n",
       "    </tr>\n",
       "    <tr>\n",
       "      <th>384</th>\n",
       "      <td>1</td>\n",
       "      <td>1</td>\n",
       "      <td>3</td>\n",
       "      <td>1</td>\n",
       "      <td>2</td>\n",
       "      <td>16</td>\n",
       "      <td>1</td>\n",
       "      <td>1</td>\n",
       "      <td>1</td>\n",
       "      <td>1</td>\n",
       "      <td>34</td>\n",
       "      <td>2</td>\n",
       "      <td>2</td>\n",
       "      <td>2</td>\n",
       "      <td>2</td>\n",
       "    </tr>\n",
       "    <tr>\n",
       "      <th>...</th>\n",
       "      <td>...</td>\n",
       "      <td>...</td>\n",
       "      <td>...</td>\n",
       "      <td>...</td>\n",
       "      <td>...</td>\n",
       "      <td>...</td>\n",
       "      <td>...</td>\n",
       "      <td>...</td>\n",
       "      <td>...</td>\n",
       "      <td>...</td>\n",
       "      <td>...</td>\n",
       "      <td>...</td>\n",
       "      <td>...</td>\n",
       "      <td>...</td>\n",
       "      <td>...</td>\n",
       "    </tr>\n",
       "    <tr>\n",
       "      <th>94164</th>\n",
       "      <td>1</td>\n",
       "      <td>1</td>\n",
       "      <td>8</td>\n",
       "      <td>4</td>\n",
       "      <td>1</td>\n",
       "      <td>7</td>\n",
       "      <td>0</td>\n",
       "      <td>1</td>\n",
       "      <td>1</td>\n",
       "      <td>1</td>\n",
       "      <td>39</td>\n",
       "      <td>-1</td>\n",
       "      <td>2</td>\n",
       "      <td>2</td>\n",
       "      <td>2</td>\n",
       "    </tr>\n",
       "    <tr>\n",
       "      <th>94368</th>\n",
       "      <td>1</td>\n",
       "      <td>1</td>\n",
       "      <td>5</td>\n",
       "      <td>4</td>\n",
       "      <td>1</td>\n",
       "      <td>14</td>\n",
       "      <td>1</td>\n",
       "      <td>4</td>\n",
       "      <td>1</td>\n",
       "      <td>2</td>\n",
       "      <td>40</td>\n",
       "      <td>19900</td>\n",
       "      <td>2</td>\n",
       "      <td>2</td>\n",
       "      <td>2</td>\n",
       "    </tr>\n",
       "    <tr>\n",
       "      <th>94397</th>\n",
       "      <td>1</td>\n",
       "      <td>1</td>\n",
       "      <td>5</td>\n",
       "      <td>4</td>\n",
       "      <td>1</td>\n",
       "      <td>14</td>\n",
       "      <td>1</td>\n",
       "      <td>1</td>\n",
       "      <td>1</td>\n",
       "      <td>1</td>\n",
       "      <td>37</td>\n",
       "      <td>1</td>\n",
       "      <td>2</td>\n",
       "      <td>2</td>\n",
       "      <td>2</td>\n",
       "    </tr>\n",
       "    <tr>\n",
       "      <th>94471</th>\n",
       "      <td>1</td>\n",
       "      <td>1</td>\n",
       "      <td>2</td>\n",
       "      <td>4</td>\n",
       "      <td>1</td>\n",
       "      <td>3</td>\n",
       "      <td>1</td>\n",
       "      <td>4</td>\n",
       "      <td>1</td>\n",
       "      <td>2</td>\n",
       "      <td>15</td>\n",
       "      <td>12000</td>\n",
       "      <td>2</td>\n",
       "      <td>2</td>\n",
       "      <td>2</td>\n",
       "    </tr>\n",
       "    <tr>\n",
       "      <th>94540</th>\n",
       "      <td>1</td>\n",
       "      <td>1</td>\n",
       "      <td>4</td>\n",
       "      <td>4</td>\n",
       "      <td>1</td>\n",
       "      <td>12</td>\n",
       "      <td>0</td>\n",
       "      <td>4</td>\n",
       "      <td>1</td>\n",
       "      <td>1</td>\n",
       "      <td>41</td>\n",
       "      <td>12000</td>\n",
       "      <td>2</td>\n",
       "      <td>2</td>\n",
       "      <td>2</td>\n",
       "    </tr>\n",
       "  </tbody>\n",
       "</table>\n",
       "<p>668 rows × 15 columns</p>\n",
       "</div>"
      ],
      "text/plain": [
       "       HINC_FR  HINC_SE  H_NUMPER  GEREG  GTMETSTA  HEFAMINC  HH5TO18  \\\n",
       "116          1        1         1      1         2        10        0   \n",
       "117          1        1         3      1         2        14        1   \n",
       "318          1        1         2      1         2        13        0   \n",
       "378          1        1         2      1         2        14        0   \n",
       "384          1        1         3      1         2        16        1   \n",
       "...        ...      ...       ...    ...       ...       ...      ...   \n",
       "94164        1        1         8      4         1         7        0   \n",
       "94368        1        1         5      4         1        14        1   \n",
       "94397        1        1         5      4         1        14        1   \n",
       "94471        1        1         2      4         1         3        1   \n",
       "94540        1        1         4      4         1        12        0   \n",
       "\n",
       "       HRHTYPE  H_TELHHD  H_TENURE  HHINC  HSEVAL  HDIS_YN  HDIV_YN  HINC_WC  \n",
       "116          7         1         1     16   24001        2        2        2  \n",
       "117          1         1         1     39   50001        2        2        2  \n",
       "318          1         1         1     41   10000        2        1        2  \n",
       "378          7         1         1     41       1        2        1        2  \n",
       "384          1         1         1     34       2        2        2        2  \n",
       "...        ...       ...       ...    ...     ...      ...      ...      ...  \n",
       "94164        1         1         1     39      -1        2        2        2  \n",
       "94368        4         1         2     40   19900        2        2        2  \n",
       "94397        1         1         1     37       1        2        2        2  \n",
       "94471        4         1         2     15   12000        2        2        2  \n",
       "94540        4         1         1     41   12000        2        2        2  \n",
       "\n",
       "[668 rows x 15 columns]"
      ]
     },
     "execution_count": 57,
     "metadata": {},
     "output_type": "execute_result"
    }
   ],
   "source": [
    "Farmer_Ent"
   ]
  },
  {
   "cell_type": "code",
   "execution_count": 20,
   "metadata": {},
   "outputs": [],
   "source": [
    "farmer_e_top_keys = Farmer_Ent['HHINC'].value_counts().index\n",
    "farmer_e_top_values = Farmer_Ent['HHINC'].value_counts().tolist()/Farmer_Ent['HHINC'].value_counts().sum()\n",
    "\n",
    "farmer_ne_top_keys = Farmer_Non_Ent['HHINC'].value_counts().index\n",
    "farmer_ne_top_values = Farmer_Non_Ent['HHINC'].value_counts().tolist()/Farmer_Non_Ent['HHINC'].value_counts().sum()"
   ]
  },
  {
   "cell_type": "code",
   "execution_count": 21,
   "metadata": {},
   "outputs": [
    {
     "data": {
      "image/png": "[encoded data removed]",
      "text/plain": [
       "<Figure size 720x576 with 1 Axes>"
      ]
     },
     "metadata": {
      "needs_background": "light"
     },
     "output_type": "display_data"
    }
   ],
   "source": [
    "x1 = farmer_e_top_keys\n",
    "x2 = farmer_ne_top_keys\n",
    "y1 = farmer_e_top_values\n",
    "y2 = farmer_ne_top_values\n",
    "\n",
    "plt.figure(figsize=(10,8))\n",
    "width = 0.40   \n",
    "plt.bar(x1, y1, width, label='Farmer Entrepreneurs')\n",
    "plt.bar(x2 + width, y2 , width, label='Farmer Non-Entrepreneurs')\n",
    "\n",
    "plt.grid(b = True, color ='grey',\n",
    "        linestyle ='-.', linewidth = 0.5,\n",
    "        alpha = 0.7)\n",
    "\n",
    "plt.ylabel('Percent of Total')\n",
    "plt.xlabel('Total Household income - coded values')\n",
    "plt.title('Incomes as Reported by Farmers')\n",
    "plt.legend(loc='best')\n",
    "plt.show()"
   ]
  },
  {
   "cell_type": "code",
   "execution_count": 22,
   "metadata": {},
   "outputs": [],
   "source": [
    "# Almost half of self-employed farmers reported incomes over $100k (Value = 41 in DF), \n",
    "# The second and third most common incomes reported were $50,000 to $52,499 (27) and $80,000 to $82,499 (24). \n",
    "\n",
    "# Likewise, the most common response for Non-Entrepreneurs was also 41 (over $100k) .\n",
    "# The second and third most common responses were 13 ($30,000 to $32,499) and 21 ($50,000 TO $52,499) "
   ]
  },
  {
   "cell_type": "code",
   "execution_count": 23,
   "metadata": {},
   "outputs": [],
   "source": [
    "Non_Ent = ndd[(ndd.HINC_SE == 0)]\n",
    "Ent = ndd[(ndd.HINC_SE == 1)]"
   ]
  },
  {
   "cell_type": "code",
   "execution_count": 24,
   "metadata": {},
   "outputs": [],
   "source": [
    "e_top_keys = Ent['HHINC'].value_counts().index\n",
    "e_top_values = Ent['HHINC'].value_counts().tolist()/Ent['HHINC'].value_counts().sum()\n",
    "\n",
    "ne_top_keys = Non_Ent['HHINC'].value_counts().index\n",
    "ne_top_values = Non_Ent['HHINC'].value_counts().tolist()/Non_Ent['HHINC'].value_counts().sum()"
   ]
  },
  {
   "cell_type": "code",
   "execution_count": 25,
   "metadata": {},
   "outputs": [
    {
     "data": {
      "image/png": "[encoded data removed]",
      "text/plain": [
       "<Figure size 720x576 with 1 Axes>"
      ]
     },
     "metadata": {
      "needs_background": "light"
     },
     "output_type": "display_data"
    }
   ],
   "source": [
    "x1 = e_top_keys\n",
    "x2 = ne_top_keys\n",
    "y1 = e_top_values\n",
    "y2 = e_top_values\n",
    "\n",
    "plt.figure(figsize=(10,8))\n",
    "width = 0.40   \n",
    "plt.bar(x1, y1, width, label='Entrepreneurs')\n",
    "plt.bar(x2 + width, y2 , width, label='Non-Entrepreneurs')\n",
    "\n",
    "plt.grid(b = True, color ='grey',\n",
    "        linestyle ='-.', linewidth = 0.5,\n",
    "        alpha = 0.7)\n",
    "\n",
    "plt.ylabel('Percent of Total')\n",
    "plt.xlabel('Total Household income - coded values')\n",
    "plt.title('Incomes as Reported by Non-Farmers')\n",
    "plt.legend(loc='best')\n",
    "plt.show()"
   ]
  },
  {
   "cell_type": "code",
   "execution_count": 26,
   "metadata": {},
   "outputs": [],
   "source": [
    "#The first graph explains the income as reported by farmers both entrepreneurs and non-entrepreneurs. \n",
    "#Notice how most farmers report incomes over 100k. In contrast, the second graph explains how non-farmers reported their income. \n",
    "#While the majority of entrepreneur non-farmers reported incomes of over 100k, non-entrepreneurs reported incomes at the extreme: less than $2,500\n",
    "\n",
    "#Non-entrepreneurs non-farmers reported the lowest incomes in the survey"
   ]
  },
  {
   "cell_type": "markdown",
   "metadata": {},
   "source": [
    "## How Entrepreneurs Fare per Region "
   ]
  },
  {
   "cell_type": "code",
   "execution_count": 27,
   "metadata": {},
   "outputs": [
    {
     "data": {
      "text/plain": [
       "3    36727\n",
       "4    24782\n",
       "2    17504\n",
       "1    15620\n",
       "Name: GEREG, dtype: int64"
      ]
     },
     "execution_count": 27,
     "metadata": {},
     "output_type": "execute_result"
    }
   ],
   "source": [
    "# Region \n",
    "# 1 = Northeast          \n",
    "# 2 = Midwest          \n",
    "# 3 = South          \n",
    "# 4 = West\n",
    "\n",
    "df2[\"GEREG\"].value_counts()"
   ]
  },
  {
   "cell_type": "code",
   "execution_count": 28,
   "metadata": {},
   "outputs": [
    {
     "data": {
      "text/plain": [
       "2    165\n",
       "3    112\n",
       "4     93\n",
       "1     32\n",
       "Name: GEREG, dtype: int64"
      ]
     },
     "execution_count": 28,
     "metadata": {},
     "output_type": "execute_result"
    }
   ],
   "source": [
    "Farmer_Ent['GEREG'].value_counts()"
   ]
  },
  {
   "cell_type": "code",
   "execution_count": 29,
   "metadata": {},
   "outputs": [
    {
     "data": {
      "text/plain": [
       "3    2019\n",
       "4    1985\n",
       "2    1063\n",
       "1     947\n",
       "Name: GEREG, dtype: int64"
      ]
     },
     "execution_count": 29,
     "metadata": {},
     "output_type": "execute_result"
    }
   ],
   "source": [
    "Ent['GEREG'].value_counts()"
   ]
  },
  {
   "cell_type": "code",
   "execution_count": 30,
   "metadata": {},
   "outputs": [],
   "source": [
    "# Most entrepreneurs (both farmers and non-farmers) are concentrated in the South "
   ]
  },
  {
   "cell_type": "markdown",
   "metadata": {},
   "source": [
    "# Self-employment Income "
   ]
  },
  {
   "cell_type": "code",
   "execution_count": 31,
   "metadata": {},
   "outputs": [],
   "source": [
    "def hypothesis_test(p):\n",
    "    if p <= 0.05: return 'Reject the Null'\n",
    "    else: return 'Fail to Reject the Null'"
   ]
  },
  {
   "cell_type": "code",
   "execution_count": 32,
   "metadata": {},
   "outputs": [
    {
     "data": {
      "image/png": "[encoded data removed]",
      "text/plain": [
       "<Figure size 720x576 with 1 Axes>"
      ]
     },
     "metadata": {
      "needs_background": "light"
     },
     "output_type": "display_data"
    }
   ],
   "source": [
    "plt.figure(figsize=(10, 8))\n",
    "plt.boxplot([Farmer_Ent['HSEVAL'],Ent['HSEVAL']])\n",
    "plt.xlabel('Farmer and Non-Farmer Income Distributions')\n",
    "plt.ylabel('Incomes')\n",
    "plt.title('Summary Statistic of Reported Incomes by Entrepreneurs')\n",
    "plt.show()"
   ]
  },
  {
   "cell_type": "code",
   "execution_count": 33,
   "metadata": {},
   "outputs": [
    {
     "data": {
      "image/png": "[encoded data removed]",
      "text/plain": [
       "<Figure size 720x576 with 1 Axes>"
      ]
     },
     "metadata": {
      "needs_background": "light"
     },
     "output_type": "display_data"
    }
   ],
   "source": [
    "plt.figure(figsize=(10, 8))\n",
    "st.probplot(Farmer_Ent['HSEVAL'],dist='norm', fit=True, plot=plt)\n",
    "st.probplot(Ent['HSEVAL'], dist='norm', fit=True, plot=plt)\n",
    "plt.show()"
   ]
  },
  {
   "cell_type": "code",
   "execution_count": 34,
   "metadata": {},
   "outputs": [
    {
     "data": {
      "text/plain": [
       "'Reject the Null'"
      ]
     },
     "execution_count": 34,
     "metadata": {},
     "output_type": "execute_result"
    }
   ],
   "source": [
    "hypothesis_test(st.normaltest(Farmer_Ent['HSEVAL'])[1])"
   ]
  },
  {
   "cell_type": "code",
   "execution_count": 35,
   "metadata": {},
   "outputs": [
    {
     "data": {
      "text/plain": [
       "'Reject the Null'"
      ]
     },
     "execution_count": 35,
     "metadata": {},
     "output_type": "execute_result"
    }
   ],
   "source": [
    "hypothesis_test(st.normaltest(Ent['HSEVAL'])[1])"
   ]
  },
  {
   "cell_type": "code",
   "execution_count": 36,
   "metadata": {},
   "outputs": [],
   "source": [
    "Farmer_Ent_Cube =np.cbrt(Farmer_Ent['HSEVAL'])\n",
    "Ent_Cube = np.cbrt(Ent['HSEVAL'])"
   ]
  },
  {
   "cell_type": "code",
   "execution_count": 37,
   "metadata": {},
   "outputs": [
    {
     "data": {
      "image/png": "[encoded data removed]",
      "text/plain": [
       "<Figure size 720x576 with 1 Axes>"
      ]
     },
     "metadata": {
      "needs_background": "light"
     },
     "output_type": "display_data"
    }
   ],
   "source": [
    "plt.figure(figsize=(10, 8))\n",
    "st.probplot(Farmer_Ent_Cube ,dist='norm', fit=True, plot=plt)\n",
    "plt.show()"
   ]
  },
  {
   "cell_type": "code",
   "execution_count": 38,
   "metadata": {},
   "outputs": [
    {
     "data": {
      "image/png": "[encoded data removed]",
      "text/plain": [
       "<Figure size 720x576 with 1 Axes>"
      ]
     },
     "metadata": {
      "needs_background": "light"
     },
     "output_type": "display_data"
    }
   ],
   "source": [
    "plt.figure(figsize=(10, 8))\n",
    "st.probplot(Ent_Cube ,dist='norm', fit=True, plot=plt)\n",
    "plt.show()"
   ]
  },
  {
   "cell_type": "code",
   "execution_count": 39,
   "metadata": {},
   "outputs": [
    {
     "data": {
      "image/png": "[encoded data removed]",
      "text/plain": [
       "<Figure size 720x576 with 1 Axes>"
      ]
     },
     "metadata": {
      "needs_background": "light"
     },
     "output_type": "display_data"
    }
   ],
   "source": [
    "plt.figure(figsize=(10, 8))\n",
    "plt.boxplot([Farmer_Ent_Cube,Ent_Cube])\n",
    "plt.xlabel('Farmer and Non-Farmer Income Distributions')\n",
    "plt.ylabel('Incomes')\n",
    "plt.title('Summary Statistic of Reported Incomes by Entrepreneurs')\n",
    "plt.show()"
   ]
  },
  {
   "cell_type": "code",
   "execution_count": 40,
   "metadata": {},
   "outputs": [
    {
     "data": {
      "text/plain": [
       "'Reject the Null'"
      ]
     },
     "execution_count": 40,
     "metadata": {},
     "output_type": "execute_result"
    }
   ],
   "source": [
    "hypothesis_test(st.normaltest(Farmer_Ent_Cube)[1])"
   ]
  },
  {
   "cell_type": "code",
   "execution_count": 41,
   "metadata": {},
   "outputs": [
    {
     "data": {
      "text/plain": [
       "'Reject the Null'"
      ]
     },
     "execution_count": 41,
     "metadata": {},
     "output_type": "execute_result"
    }
   ],
   "source": [
    "hypothesis_test(st.normaltest(Farmer_Ent_Cube)[1])"
   ]
  },
  {
   "cell_type": "code",
   "execution_count": 42,
   "metadata": {},
   "outputs": [],
   "source": [
    "#Even after the transformation, the data is not normally distributed "
   ]
  },
  {
   "cell_type": "markdown",
   "metadata": {},
   "source": [
    "# Number of Children Ages 5 through 18"
   ]
  },
  {
   "cell_type": "code",
   "execution_count": 43,
   "metadata": {},
   "outputs": [
    {
     "data": {
      "text/plain": [
       "0    72759\n",
       "1    10622\n",
       "2     7550\n",
       "3     2694\n",
       "4      718\n",
       "5      216\n",
       "6       52\n",
       "7       15\n",
       "8        4\n",
       "9        3\n",
       "Name: HH5TO18, dtype: int64"
      ]
     },
     "execution_count": 43,
     "metadata": {},
     "output_type": "execute_result"
    }
   ],
   "source": [
    "#Number of persons in household age 5 to 18 excluding family heads and spouse \n",
    "# 00 = None      01-16 = Number persons 5 to 18\n",
    "\n",
    "ndd[\"HH5TO18\"].value_counts()"
   ]
  },
  {
   "cell_type": "code",
   "execution_count": 44,
   "metadata": {},
   "outputs": [],
   "source": [
    "Farmer_Ent_Kids = (ndd[(ndd.HINC_FR == 1) & (ndd.HH5TO18)])\n",
    "Ent_Kids = (ndd[(ndd.HINC_SE == 1) & (ndd.HH5TO18) & (ndd.HINC_FR == 0)])"
   ]
  },
  {
   "cell_type": "code",
   "execution_count": 45,
   "metadata": {},
   "outputs": [],
   "source": [
    "# Mean number of children Farmers = 1.566524, Non-Farmers = 1.469170\n",
    "#Farmer_Ent_Kids = (ndd[(ndd.HINC_FR == 1) & (ndd.HH5TO18)]).mean()\n",
    "#Ent_Kids = (ndd[(ndd.HINC_SE == 1) & (ndd.HH5TO18) & (ndd.HINC_FR == 0)]).mean()"
   ]
  },
  {
   "cell_type": "code",
   "execution_count": 46,
   "metadata": {},
   "outputs": [
    {
     "data": {
      "text/html": [
       "<div>\n",
       "<style scoped>\n",
       "    .dataframe tbody tr th:only-of-type {\n",
       "        vertical-align: middle;\n",
       "    }\n",
       "\n",
       "    .dataframe tbody tr th {\n",
       "        vertical-align: top;\n",
       "    }\n",
       "\n",
       "    .dataframe thead th {\n",
       "        text-align: right;\n",
       "    }\n",
       "</style>\n",
       "<table border=\"1\" class=\"dataframe\">\n",
       "  <thead>\n",
       "    <tr style=\"text-align: right;\">\n",
       "      <th></th>\n",
       "      <th>HINC_FR</th>\n",
       "      <th>HINC_SE</th>\n",
       "      <th>H_NUMPER</th>\n",
       "      <th>GEREG</th>\n",
       "      <th>GTMETSTA</th>\n",
       "      <th>HEFAMINC</th>\n",
       "      <th>HH5TO18</th>\n",
       "      <th>HRHTYPE</th>\n",
       "      <th>H_TELHHD</th>\n",
       "      <th>H_TENURE</th>\n",
       "      <th>HHINC</th>\n",
       "      <th>HSEVAL</th>\n",
       "      <th>HDIS_YN</th>\n",
       "      <th>HDIV_YN</th>\n",
       "      <th>HINC_WC</th>\n",
       "    </tr>\n",
       "  </thead>\n",
       "  <tbody>\n",
       "    <tr>\n",
       "      <th>117</th>\n",
       "      <td>1</td>\n",
       "      <td>1</td>\n",
       "      <td>3</td>\n",
       "      <td>1</td>\n",
       "      <td>2</td>\n",
       "      <td>14</td>\n",
       "      <td>1</td>\n",
       "      <td>1</td>\n",
       "      <td>1</td>\n",
       "      <td>1</td>\n",
       "      <td>39</td>\n",
       "      <td>50001</td>\n",
       "      <td>2</td>\n",
       "      <td>2</td>\n",
       "      <td>2</td>\n",
       "    </tr>\n",
       "    <tr>\n",
       "      <th>384</th>\n",
       "      <td>1</td>\n",
       "      <td>1</td>\n",
       "      <td>3</td>\n",
       "      <td>1</td>\n",
       "      <td>2</td>\n",
       "      <td>16</td>\n",
       "      <td>1</td>\n",
       "      <td>1</td>\n",
       "      <td>1</td>\n",
       "      <td>1</td>\n",
       "      <td>34</td>\n",
       "      <td>2</td>\n",
       "      <td>2</td>\n",
       "      <td>2</td>\n",
       "      <td>2</td>\n",
       "    </tr>\n",
       "    <tr>\n",
       "      <th>499</th>\n",
       "      <td>1</td>\n",
       "      <td>1</td>\n",
       "      <td>5</td>\n",
       "      <td>1</td>\n",
       "      <td>1</td>\n",
       "      <td>6</td>\n",
       "      <td>3</td>\n",
       "      <td>1</td>\n",
       "      <td>1</td>\n",
       "      <td>1</td>\n",
       "      <td>7</td>\n",
       "      <td>-2100</td>\n",
       "      <td>2</td>\n",
       "      <td>2</td>\n",
       "      <td>1</td>\n",
       "    </tr>\n",
       "    <tr>\n",
       "      <th>1261</th>\n",
       "      <td>1</td>\n",
       "      <td>0</td>\n",
       "      <td>3</td>\n",
       "      <td>1</td>\n",
       "      <td>2</td>\n",
       "      <td>15</td>\n",
       "      <td>1</td>\n",
       "      <td>1</td>\n",
       "      <td>1</td>\n",
       "      <td>1</td>\n",
       "      <td>41</td>\n",
       "      <td>0</td>\n",
       "      <td>2</td>\n",
       "      <td>1</td>\n",
       "      <td>2</td>\n",
       "    </tr>\n",
       "    <tr>\n",
       "      <th>1740</th>\n",
       "      <td>1</td>\n",
       "      <td>1</td>\n",
       "      <td>2</td>\n",
       "      <td>1</td>\n",
       "      <td>1</td>\n",
       "      <td>11</td>\n",
       "      <td>1</td>\n",
       "      <td>4</td>\n",
       "      <td>1</td>\n",
       "      <td>1</td>\n",
       "      <td>21</td>\n",
       "      <td>1</td>\n",
       "      <td>2</td>\n",
       "      <td>2</td>\n",
       "      <td>2</td>\n",
       "    </tr>\n",
       "    <tr>\n",
       "      <th>...</th>\n",
       "      <td>...</td>\n",
       "      <td>...</td>\n",
       "      <td>...</td>\n",
       "      <td>...</td>\n",
       "      <td>...</td>\n",
       "      <td>...</td>\n",
       "      <td>...</td>\n",
       "      <td>...</td>\n",
       "      <td>...</td>\n",
       "      <td>...</td>\n",
       "      <td>...</td>\n",
       "      <td>...</td>\n",
       "      <td>...</td>\n",
       "      <td>...</td>\n",
       "      <td>...</td>\n",
       "    </tr>\n",
       "    <tr>\n",
       "      <th>93160</th>\n",
       "      <td>1</td>\n",
       "      <td>0</td>\n",
       "      <td>4</td>\n",
       "      <td>4</td>\n",
       "      <td>2</td>\n",
       "      <td>11</td>\n",
       "      <td>1</td>\n",
       "      <td>4</td>\n",
       "      <td>1</td>\n",
       "      <td>2</td>\n",
       "      <td>29</td>\n",
       "      <td>0</td>\n",
       "      <td>2</td>\n",
       "      <td>2</td>\n",
       "      <td>2</td>\n",
       "    </tr>\n",
       "    <tr>\n",
       "      <th>94121</th>\n",
       "      <td>1</td>\n",
       "      <td>1</td>\n",
       "      <td>3</td>\n",
       "      <td>4</td>\n",
       "      <td>1</td>\n",
       "      <td>2</td>\n",
       "      <td>1</td>\n",
       "      <td>1</td>\n",
       "      <td>1</td>\n",
       "      <td>1</td>\n",
       "      <td>41</td>\n",
       "      <td>1</td>\n",
       "      <td>2</td>\n",
       "      <td>2</td>\n",
       "      <td>2</td>\n",
       "    </tr>\n",
       "    <tr>\n",
       "      <th>94368</th>\n",
       "      <td>1</td>\n",
       "      <td>1</td>\n",
       "      <td>5</td>\n",
       "      <td>4</td>\n",
       "      <td>1</td>\n",
       "      <td>14</td>\n",
       "      <td>1</td>\n",
       "      <td>4</td>\n",
       "      <td>1</td>\n",
       "      <td>2</td>\n",
       "      <td>40</td>\n",
       "      <td>19900</td>\n",
       "      <td>2</td>\n",
       "      <td>2</td>\n",
       "      <td>2</td>\n",
       "    </tr>\n",
       "    <tr>\n",
       "      <th>94397</th>\n",
       "      <td>1</td>\n",
       "      <td>1</td>\n",
       "      <td>5</td>\n",
       "      <td>4</td>\n",
       "      <td>1</td>\n",
       "      <td>14</td>\n",
       "      <td>1</td>\n",
       "      <td>1</td>\n",
       "      <td>1</td>\n",
       "      <td>1</td>\n",
       "      <td>37</td>\n",
       "      <td>1</td>\n",
       "      <td>2</td>\n",
       "      <td>2</td>\n",
       "      <td>2</td>\n",
       "    </tr>\n",
       "    <tr>\n",
       "      <th>94471</th>\n",
       "      <td>1</td>\n",
       "      <td>1</td>\n",
       "      <td>2</td>\n",
       "      <td>4</td>\n",
       "      <td>1</td>\n",
       "      <td>3</td>\n",
       "      <td>1</td>\n",
       "      <td>4</td>\n",
       "      <td>1</td>\n",
       "      <td>2</td>\n",
       "      <td>15</td>\n",
       "      <td>12000</td>\n",
       "      <td>2</td>\n",
       "      <td>2</td>\n",
       "      <td>2</td>\n",
       "    </tr>\n",
       "  </tbody>\n",
       "</table>\n",
       "<p>233 rows × 15 columns</p>\n",
       "</div>"
      ],
      "text/plain": [
       "       HINC_FR  HINC_SE  H_NUMPER  GEREG  GTMETSTA  HEFAMINC  HH5TO18  \\\n",
       "117          1        1         3      1         2        14        1   \n",
       "384          1        1         3      1         2        16        1   \n",
       "499          1        1         5      1         1         6        3   \n",
       "1261         1        0         3      1         2        15        1   \n",
       "1740         1        1         2      1         1        11        1   \n",
       "...        ...      ...       ...    ...       ...       ...      ...   \n",
       "93160        1        0         4      4         2        11        1   \n",
       "94121        1        1         3      4         1         2        1   \n",
       "94368        1        1         5      4         1        14        1   \n",
       "94397        1        1         5      4         1        14        1   \n",
       "94471        1        1         2      4         1         3        1   \n",
       "\n",
       "       HRHTYPE  H_TELHHD  H_TENURE  HHINC  HSEVAL  HDIS_YN  HDIV_YN  HINC_WC  \n",
       "117          1         1         1     39   50001        2        2        2  \n",
       "384          1         1         1     34       2        2        2        2  \n",
       "499          1         1         1      7   -2100        2        2        1  \n",
       "1261         1         1         1     41       0        2        1        2  \n",
       "1740         4         1         1     21       1        2        2        2  \n",
       "...        ...       ...       ...    ...     ...      ...      ...      ...  \n",
       "93160        4         1         2     29       0        2        2        2  \n",
       "94121        1         1         1     41       1        2        2        2  \n",
       "94368        4         1         2     40   19900        2        2        2  \n",
       "94397        1         1         1     37       1        2        2        2  \n",
       "94471        4         1         2     15   12000        2        2        2  \n",
       "\n",
       "[233 rows x 15 columns]"
      ]
     },
     "execution_count": 46,
     "metadata": {},
     "output_type": "execute_result"
    }
   ],
   "source": [
    "Farmer_Ent_Kids"
   ]
  },
  {
   "cell_type": "code",
   "execution_count": 47,
   "metadata": {},
   "outputs": [
    {
     "data": {
      "text/html": [
       "<div>\n",
       "<style scoped>\n",
       "    .dataframe tbody tr th:only-of-type {\n",
       "        vertical-align: middle;\n",
       "    }\n",
       "\n",
       "    .dataframe tbody tr th {\n",
       "        vertical-align: top;\n",
       "    }\n",
       "\n",
       "    .dataframe thead th {\n",
       "        text-align: right;\n",
       "    }\n",
       "</style>\n",
       "<table border=\"1\" class=\"dataframe\">\n",
       "  <thead>\n",
       "    <tr style=\"text-align: right;\">\n",
       "      <th></th>\n",
       "      <th>HINC_FR</th>\n",
       "      <th>HINC_SE</th>\n",
       "      <th>H_NUMPER</th>\n",
       "      <th>GEREG</th>\n",
       "      <th>GTMETSTA</th>\n",
       "      <th>HEFAMINC</th>\n",
       "      <th>HH5TO18</th>\n",
       "      <th>HRHTYPE</th>\n",
       "      <th>H_TELHHD</th>\n",
       "      <th>H_TENURE</th>\n",
       "      <th>HHINC</th>\n",
       "      <th>HSEVAL</th>\n",
       "      <th>HDIS_YN</th>\n",
       "      <th>HDIV_YN</th>\n",
       "      <th>HINC_WC</th>\n",
       "    </tr>\n",
       "  </thead>\n",
       "  <tbody>\n",
       "    <tr>\n",
       "      <th>29</th>\n",
       "      <td>0</td>\n",
       "      <td>1</td>\n",
       "      <td>11</td>\n",
       "      <td>1</td>\n",
       "      <td>2</td>\n",
       "      <td>8</td>\n",
       "      <td>5</td>\n",
       "      <td>1</td>\n",
       "      <td>1</td>\n",
       "      <td>1</td>\n",
       "      <td>21</td>\n",
       "      <td>50000</td>\n",
       "      <td>2</td>\n",
       "      <td>2</td>\n",
       "      <td>2</td>\n",
       "    </tr>\n",
       "    <tr>\n",
       "      <th>119</th>\n",
       "      <td>0</td>\n",
       "      <td>1</td>\n",
       "      <td>5</td>\n",
       "      <td>1</td>\n",
       "      <td>2</td>\n",
       "      <td>14</td>\n",
       "      <td>3</td>\n",
       "      <td>1</td>\n",
       "      <td>1</td>\n",
       "      <td>1</td>\n",
       "      <td>37</td>\n",
       "      <td>80000</td>\n",
       "      <td>2</td>\n",
       "      <td>2</td>\n",
       "      <td>2</td>\n",
       "    </tr>\n",
       "    <tr>\n",
       "      <th>184</th>\n",
       "      <td>0</td>\n",
       "      <td>1</td>\n",
       "      <td>2</td>\n",
       "      <td>1</td>\n",
       "      <td>2</td>\n",
       "      <td>12</td>\n",
       "      <td>1</td>\n",
       "      <td>3</td>\n",
       "      <td>1</td>\n",
       "      <td>1</td>\n",
       "      <td>20</td>\n",
       "      <td>45000</td>\n",
       "      <td>2</td>\n",
       "      <td>2</td>\n",
       "      <td>2</td>\n",
       "    </tr>\n",
       "    <tr>\n",
       "      <th>239</th>\n",
       "      <td>0</td>\n",
       "      <td>1</td>\n",
       "      <td>7</td>\n",
       "      <td>1</td>\n",
       "      <td>2</td>\n",
       "      <td>11</td>\n",
       "      <td>5</td>\n",
       "      <td>1</td>\n",
       "      <td>1</td>\n",
       "      <td>1</td>\n",
       "      <td>19</td>\n",
       "      <td>36000</td>\n",
       "      <td>2</td>\n",
       "      <td>2</td>\n",
       "      <td>2</td>\n",
       "    </tr>\n",
       "    <tr>\n",
       "      <th>314</th>\n",
       "      <td>0</td>\n",
       "      <td>1</td>\n",
       "      <td>5</td>\n",
       "      <td>1</td>\n",
       "      <td>2</td>\n",
       "      <td>8</td>\n",
       "      <td>3</td>\n",
       "      <td>1</td>\n",
       "      <td>1</td>\n",
       "      <td>1</td>\n",
       "      <td>41</td>\n",
       "      <td>80000</td>\n",
       "      <td>2</td>\n",
       "      <td>2</td>\n",
       "      <td>2</td>\n",
       "    </tr>\n",
       "    <tr>\n",
       "      <th>...</th>\n",
       "      <td>...</td>\n",
       "      <td>...</td>\n",
       "      <td>...</td>\n",
       "      <td>...</td>\n",
       "      <td>...</td>\n",
       "      <td>...</td>\n",
       "      <td>...</td>\n",
       "      <td>...</td>\n",
       "      <td>...</td>\n",
       "      <td>...</td>\n",
       "      <td>...</td>\n",
       "      <td>...</td>\n",
       "      <td>...</td>\n",
       "      <td>...</td>\n",
       "      <td>...</td>\n",
       "    </tr>\n",
       "    <tr>\n",
       "      <th>94323</th>\n",
       "      <td>0</td>\n",
       "      <td>1</td>\n",
       "      <td>5</td>\n",
       "      <td>4</td>\n",
       "      <td>1</td>\n",
       "      <td>16</td>\n",
       "      <td>1</td>\n",
       "      <td>1</td>\n",
       "      <td>1</td>\n",
       "      <td>1</td>\n",
       "      <td>41</td>\n",
       "      <td>236596</td>\n",
       "      <td>2</td>\n",
       "      <td>1</td>\n",
       "      <td>2</td>\n",
       "    </tr>\n",
       "    <tr>\n",
       "      <th>94418</th>\n",
       "      <td>0</td>\n",
       "      <td>1</td>\n",
       "      <td>4</td>\n",
       "      <td>4</td>\n",
       "      <td>1</td>\n",
       "      <td>4</td>\n",
       "      <td>1</td>\n",
       "      <td>1</td>\n",
       "      <td>1</td>\n",
       "      <td>1</td>\n",
       "      <td>7</td>\n",
       "      <td>15000</td>\n",
       "      <td>2</td>\n",
       "      <td>2</td>\n",
       "      <td>2</td>\n",
       "    </tr>\n",
       "    <tr>\n",
       "      <th>94477</th>\n",
       "      <td>0</td>\n",
       "      <td>1</td>\n",
       "      <td>3</td>\n",
       "      <td>4</td>\n",
       "      <td>1</td>\n",
       "      <td>11</td>\n",
       "      <td>1</td>\n",
       "      <td>4</td>\n",
       "      <td>1</td>\n",
       "      <td>1</td>\n",
       "      <td>18</td>\n",
       "      <td>20000</td>\n",
       "      <td>2</td>\n",
       "      <td>2</td>\n",
       "      <td>2</td>\n",
       "    </tr>\n",
       "    <tr>\n",
       "      <th>94519</th>\n",
       "      <td>0</td>\n",
       "      <td>1</td>\n",
       "      <td>5</td>\n",
       "      <td>4</td>\n",
       "      <td>1</td>\n",
       "      <td>15</td>\n",
       "      <td>3</td>\n",
       "      <td>1</td>\n",
       "      <td>1</td>\n",
       "      <td>1</td>\n",
       "      <td>41</td>\n",
       "      <td>1099999</td>\n",
       "      <td>2</td>\n",
       "      <td>2</td>\n",
       "      <td>2</td>\n",
       "    </tr>\n",
       "    <tr>\n",
       "      <th>94552</th>\n",
       "      <td>0</td>\n",
       "      <td>1</td>\n",
       "      <td>4</td>\n",
       "      <td>4</td>\n",
       "      <td>1</td>\n",
       "      <td>16</td>\n",
       "      <td>1</td>\n",
       "      <td>1</td>\n",
       "      <td>1</td>\n",
       "      <td>1</td>\n",
       "      <td>41</td>\n",
       "      <td>170000</td>\n",
       "      <td>2</td>\n",
       "      <td>2</td>\n",
       "      <td>2</td>\n",
       "    </tr>\n",
       "  </tbody>\n",
       "</table>\n",
       "<p>1362 rows × 15 columns</p>\n",
       "</div>"
      ],
      "text/plain": [
       "       HINC_FR  HINC_SE  H_NUMPER  GEREG  GTMETSTA  HEFAMINC  HH5TO18  \\\n",
       "29           0        1        11      1         2         8        5   \n",
       "119          0        1         5      1         2        14        3   \n",
       "184          0        1         2      1         2        12        1   \n",
       "239          0        1         7      1         2        11        5   \n",
       "314          0        1         5      1         2         8        3   \n",
       "...        ...      ...       ...    ...       ...       ...      ...   \n",
       "94323        0        1         5      4         1        16        1   \n",
       "94418        0        1         4      4         1         4        1   \n",
       "94477        0        1         3      4         1        11        1   \n",
       "94519        0        1         5      4         1        15        3   \n",
       "94552        0        1         4      4         1        16        1   \n",
       "\n",
       "       HRHTYPE  H_TELHHD  H_TENURE  HHINC   HSEVAL  HDIS_YN  HDIV_YN  HINC_WC  \n",
       "29           1         1         1     21    50000        2        2        2  \n",
       "119          1         1         1     37    80000        2        2        2  \n",
       "184          3         1         1     20    45000        2        2        2  \n",
       "239          1         1         1     19    36000        2        2        2  \n",
       "314          1         1         1     41    80000        2        2        2  \n",
       "...        ...       ...       ...    ...      ...      ...      ...      ...  \n",
       "94323        1         1         1     41   236596        2        1        2  \n",
       "94418        1         1         1      7    15000        2        2        2  \n",
       "94477        4         1         1     18    20000        2        2        2  \n",
       "94519        1         1         1     41  1099999        2        2        2  \n",
       "94552        1         1         1     41   170000        2        2        2  \n",
       "\n",
       "[1362 rows x 15 columns]"
      ]
     },
     "execution_count": 47,
     "metadata": {},
     "output_type": "execute_result"
    }
   ],
   "source": [
    "Ent_Kids"
   ]
  },
  {
   "cell_type": "markdown",
   "metadata": {},
   "source": [
    "# Own financial assets in a company "
   ]
  },
  {
   "cell_type": "code",
   "execution_count": 48,
   "metadata": {},
   "outputs": [],
   "source": [
    "# At any time during 20.. did anyone in this household: own any shares of stock in corporations or any mutual fund shares?\n",
    "# 0 = niu 1 = yes 2 = no"
   ]
  },
  {
   "cell_type": "code",
   "execution_count": 49,
   "metadata": {},
   "outputs": [
    {
     "data": {
      "text/plain": [
       "2    311\n",
       "1     91\n",
       "Name: HDIV_YN, dtype: int64"
      ]
     },
     "execution_count": 49,
     "metadata": {},
     "output_type": "execute_result"
    }
   ],
   "source": [
    "Farmer_Ent[\"HDIV_YN\"].map({1:1, 0:3, 2:2})\n",
    "Farmer_Ent[\"HDIV_YN\"].value_counts()"
   ]
  },
  {
   "cell_type": "code",
   "execution_count": 50,
   "metadata": {},
   "outputs": [
    {
     "data": {
      "text/plain": [
       "2    311\n",
       "1     91\n",
       "Name: HDIV_YN, dtype: int64"
      ]
     },
     "execution_count": 50,
     "metadata": {},
     "output_type": "execute_result"
    }
   ],
   "source": [
    "Farmer_Ent[\"HDIV_YN\"].map({1:1, 3:3, 2:0})\n",
    "Farmer_Ent[\"HDIV_YN\"].value_counts()"
   ]
  },
  {
   "cell_type": "code",
   "execution_count": 51,
   "metadata": {},
   "outputs": [
    {
     "data": {
      "text/plain": [
       "2    4625\n",
       "1    1389\n",
       "Name: HDIV_YN, dtype: int64"
      ]
     },
     "execution_count": 51,
     "metadata": {},
     "output_type": "execute_result"
    }
   ],
   "source": [
    "Ent['HDIV_YN'].map({1:1, 2:0})\n",
    "Ent[\"HDIV_YN\"].value_counts()"
   ]
  },
  {
   "cell_type": "markdown",
   "metadata": {},
   "source": [
    "# Unemployment Compensation"
   ]
  },
  {
   "cell_type": "code",
   "execution_count": 52,
   "metadata": {},
   "outputs": [
    {
     "data": {
      "text/plain": [
       "2    67856\n",
       "0    26288\n",
       "1      489\n",
       "Name: HINC_WC, dtype: int64"
      ]
     },
     "execution_count": 52,
     "metadata": {},
     "output_type": "execute_result"
    }
   ],
   "source": [
    "# unemployment compensation\n",
    "# 0 = niu 1 = yes 2 = no\n",
    "ndd[\"HINC_WC\"].value_counts()"
   ]
  },
  {
   "cell_type": "code",
   "execution_count": 53,
   "metadata": {},
   "outputs": [],
   "source": [
    "Farmer_Ent_Comp = ndd[(ndd.HINC_FR == 1) & (ndd.HINC_WC ==1)]\n",
    "Ent_Comp = ndd[(ndd.HINC_SE == 1) & (ndd.HINC_WC ==1) & (ndd.HINC_FR == 0)]"
   ]
  },
  {
   "cell_type": "code",
   "execution_count": 54,
   "metadata": {},
   "outputs": [
    {
     "data": {
      "text/plain": [
       "13"
      ]
     },
     "execution_count": 54,
     "metadata": {},
     "output_type": "execute_result"
    }
   ],
   "source": [
    "len(Farmer_Ent_Comp)"
   ]
  },
  {
   "cell_type": "code",
   "execution_count": 55,
   "metadata": {},
   "outputs": [
    {
     "ename": "NameError",
     "evalue": "name 'Ent_Dis' is not defined",
     "output_type": "error",
     "traceback": [
      "\u001b[0;31m---------------------------------------------------------------------------\u001b[0m",
      "\u001b[0;31mNameError\u001b[0m                                 Traceback (most recent call last)",
      "\u001b[0;32m<ipython-input-55-3144c0061805>\u001b[0m in \u001b[0;36m<module>\u001b[0;34m\u001b[0m\n\u001b[0;32m----> 1\u001b[0;31m \u001b[0mlen\u001b[0m\u001b[0;34m(\u001b[0m\u001b[0mEnt_Dis\u001b[0m\u001b[0;34m)\u001b[0m\u001b[0;34m\u001b[0m\u001b[0;34m\u001b[0m\u001b[0m\n\u001b[0m",
      "\u001b[0;31mNameError\u001b[0m: name 'Ent_Dis' is not defined"
     ]
    }
   ],
   "source": [
    "len(Ent_Dis)"
   ]
  },
  {
   "cell_type": "markdown",
   "metadata": {},
   "source": [
    "# Disability "
   ]
  },
  {
   "cell_type": "code",
   "execution_count": null,
   "metadata": {},
   "outputs": [],
   "source": [
    "# Does anyone in the household have a disability or health problem which prevented them from working, even for a short time, or which limited the work they could do?\n",
    "# 0 = niu 1 = yes 2 = no\n",
    "\n",
    "ndd[\"HDIS_YN\"].value_counts()"
   ]
  },
  {
   "cell_type": "code",
   "execution_count": null,
   "metadata": {},
   "outputs": [],
   "source": [
    "Farmer_Ent_Dis = ndd[(ndd.HINC_FR == 1) & (ndd.HDIS_YN ==1)]\n",
    "Ent_Dis = ndd[(ndd.HINC_SE == 1) & (ndd.HDIS_YN ==1) & (ndd.HINC_FR == 0)]"
   ]
  },
  {
   "cell_type": "code",
   "execution_count": null,
   "metadata": {},
   "outputs": [],
   "source": [
    "len(Farmer_Ent_Dis)"
   ]
  },
  {
   "cell_type": "code",
   "execution_count": null,
   "metadata": {},
   "outputs": [],
   "source": [
    "len(Ent_Dis)"
   ]
  },
  {
   "cell_type": "markdown",
   "metadata": {},
   "source": [
    "# Workers' Compensation "
   ]
  },
  {
   "cell_type": "code",
   "execution_count": null,
   "metadata": {},
   "outputs": [],
   "source": [
    "#  workers compensation\n",
    "#0 = niu 1 = yes 2 = no\n",
    "\n",
    "ndd[\"HINC_WC\"].value_counts()"
   ]
  },
  {
   "cell_type": "code",
   "execution_count": null,
   "metadata": {},
   "outputs": [],
   "source": [
    "Farmer_Ent_WC = ndd[(ndd.HINC_FR == 1) & (ndd.HINC_WC ==1)]\n",
    "Ent_WC = ndd[(ndd.HINC_SE == 1) & (ndd.HINC_WC ==1) & (ndd.HINC_FR == 0)]"
   ]
  },
  {
   "cell_type": "code",
   "execution_count": null,
   "metadata": {},
   "outputs": [],
   "source": [
    "Farmer_Ent_WC"
   ]
  },
  {
   "cell_type": "code",
   "execution_count": null,
   "metadata": {},
   "outputs": [],
   "source": [
    "Ent_WC "
   ]
  },
  {
   "cell_type": "code",
   "execution_count": null,
   "metadata": {},
   "outputs": [],
   "source": []
  }
 ],
 "metadata": {
  "kernelspec": {
   "display_name": "Python 3",
   "language": "python",
   "name": "python3"
  },
  "language_info": {
   "codemirror_mode": {
    "name": "ipython",
    "version": 3
   },
   "file_extension": ".py",
   "mimetype": "text/x-python",
   "name": "python",
   "nbconvert_exporter": "python",
   "pygments_lexer": "ipython3",
   "version": "3.8.3"
  }
 },
 "nbformat": 4,
 "nbformat_minor": 4
}
